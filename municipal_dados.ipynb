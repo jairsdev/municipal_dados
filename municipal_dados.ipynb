{
 "cells": [
  {
   "cell_type": "code",
   "execution_count": 7,
   "id": "ce5e246e",
   "metadata": {},
   "outputs": [
    {
     "ename": "AttributeError",
     "evalue": "'NoneType' object has no attribute 'split'",
     "output_type": "error",
     "traceback": [
      "\u001b[1;31m---------------------------------------------------------------------------\u001b[0m",
      "\u001b[1;31mAttributeError\u001b[0m                            Traceback (most recent call last)",
      "Cell \u001b[1;32mIn[7], line 17\u001b[0m\n\u001b[0;32m     15\u001b[0m \u001b[38;5;28;01mfrom\u001b[39;00m \u001b[38;5;21;01mtensorflow\u001b[39;00m\u001b[38;5;21;01m.\u001b[39;00m\u001b[38;5;21;01mkeras\u001b[39;00m \u001b[38;5;28;01mimport\u001b[39;00m layers, models, callbacks\n\u001b[0;32m     16\u001b[0m \u001b[38;5;28;01mimport\u001b[39;00m \u001b[38;5;21;01mwarnings\u001b[39;00m\n\u001b[1;32m---> 17\u001b[0m \u001b[38;5;28;01mfrom\u001b[39;00m \u001b[38;5;21;01mimblearn\u001b[39;00m\u001b[38;5;21;01m.\u001b[39;00m\u001b[38;5;21;01mover_sampling\u001b[39;00m \u001b[38;5;28;01mimport\u001b[39;00m SMOTE\n",
      "File \u001b[1;32mE:\\Anaconda1\\Lib\\site-packages\\imblearn\\__init__.py:52\u001b[0m\n\u001b[0;32m     48\u001b[0m     sys\u001b[38;5;241m.\u001b[39mstderr\u001b[38;5;241m.\u001b[39mwrite(\u001b[38;5;124m\"\u001b[39m\u001b[38;5;124mPartial import of imblearn during the build process.\u001b[39m\u001b[38;5;130;01m\\n\u001b[39;00m\u001b[38;5;124m\"\u001b[39m)\n\u001b[0;32m     49\u001b[0m     \u001b[38;5;66;03m# We are not importing the rest of scikit-learn during the build\u001b[39;00m\n\u001b[0;32m     50\u001b[0m     \u001b[38;5;66;03m# process, as it may not be compiled yet\u001b[39;00m\n\u001b[0;32m     51\u001b[0m \u001b[38;5;28;01melse\u001b[39;00m:\n\u001b[1;32m---> 52\u001b[0m     \u001b[38;5;28;01mfrom\u001b[39;00m \u001b[38;5;21;01m.\u001b[39;00m \u001b[38;5;28;01mimport\u001b[39;00m (\n\u001b[0;32m     53\u001b[0m         combine,\n\u001b[0;32m     54\u001b[0m         ensemble,\n\u001b[0;32m     55\u001b[0m         exceptions,\n\u001b[0;32m     56\u001b[0m         metrics,\n\u001b[0;32m     57\u001b[0m         over_sampling,\n\u001b[0;32m     58\u001b[0m         pipeline,\n\u001b[0;32m     59\u001b[0m         tensorflow,\n\u001b[0;32m     60\u001b[0m         under_sampling,\n\u001b[0;32m     61\u001b[0m         utils,\n\u001b[0;32m     62\u001b[0m     )\n\u001b[0;32m     63\u001b[0m     \u001b[38;5;28;01mfrom\u001b[39;00m \u001b[38;5;21;01m.\u001b[39;00m\u001b[38;5;21;01m_version\u001b[39;00m \u001b[38;5;28;01mimport\u001b[39;00m __version__\n\u001b[0;32m     64\u001b[0m     \u001b[38;5;28;01mfrom\u001b[39;00m \u001b[38;5;21;01m.\u001b[39;00m\u001b[38;5;21;01mbase\u001b[39;00m \u001b[38;5;28;01mimport\u001b[39;00m FunctionSampler\n",
      "File \u001b[1;32mE:\\Anaconda1\\Lib\\site-packages\\imblearn\\combine\\__init__.py:5\u001b[0m\n\u001b[0;32m      1\u001b[0m \u001b[38;5;124;03m\"\"\"The :mod:`imblearn.combine` provides methods which combine\u001b[39;00m\n\u001b[0;32m      2\u001b[0m \u001b[38;5;124;03mover-sampling and under-sampling.\u001b[39;00m\n\u001b[0;32m      3\u001b[0m \u001b[38;5;124;03m\"\"\"\u001b[39;00m\n\u001b[1;32m----> 5\u001b[0m \u001b[38;5;28;01mfrom\u001b[39;00m \u001b[38;5;21;01m.\u001b[39;00m\u001b[38;5;21;01m_smote_enn\u001b[39;00m \u001b[38;5;28;01mimport\u001b[39;00m SMOTEENN\n\u001b[0;32m      6\u001b[0m \u001b[38;5;28;01mfrom\u001b[39;00m \u001b[38;5;21;01m.\u001b[39;00m\u001b[38;5;21;01m_smote_tomek\u001b[39;00m \u001b[38;5;28;01mimport\u001b[39;00m SMOTETomek\n\u001b[0;32m      8\u001b[0m __all__ \u001b[38;5;241m=\u001b[39m [\u001b[38;5;124m\"\u001b[39m\u001b[38;5;124mSMOTEENN\u001b[39m\u001b[38;5;124m\"\u001b[39m, \u001b[38;5;124m\"\u001b[39m\u001b[38;5;124mSMOTETomek\u001b[39m\u001b[38;5;124m\"\u001b[39m]\n",
      "File \u001b[1;32mE:\\Anaconda1\\Lib\\site-packages\\imblearn\\combine\\_smote_enn.py:12\u001b[0m\n\u001b[0;32m      9\u001b[0m \u001b[38;5;28;01mfrom\u001b[39;00m \u001b[38;5;21;01msklearn\u001b[39;00m\u001b[38;5;21;01m.\u001b[39;00m\u001b[38;5;21;01mbase\u001b[39;00m \u001b[38;5;28;01mimport\u001b[39;00m clone\n\u001b[0;32m     10\u001b[0m \u001b[38;5;28;01mfrom\u001b[39;00m \u001b[38;5;21;01msklearn\u001b[39;00m\u001b[38;5;21;01m.\u001b[39;00m\u001b[38;5;21;01mutils\u001b[39;00m \u001b[38;5;28;01mimport\u001b[39;00m check_X_y\n\u001b[1;32m---> 12\u001b[0m \u001b[38;5;28;01mfrom\u001b[39;00m \u001b[38;5;21;01m.\u001b[39;00m\u001b[38;5;21;01m.\u001b[39;00m\u001b[38;5;21;01mbase\u001b[39;00m \u001b[38;5;28;01mimport\u001b[39;00m BaseSampler\n\u001b[0;32m     13\u001b[0m \u001b[38;5;28;01mfrom\u001b[39;00m \u001b[38;5;21;01m.\u001b[39;00m\u001b[38;5;21;01m.\u001b[39;00m\u001b[38;5;21;01mover_sampling\u001b[39;00m \u001b[38;5;28;01mimport\u001b[39;00m SMOTE\n\u001b[0;32m     14\u001b[0m \u001b[38;5;28;01mfrom\u001b[39;00m \u001b[38;5;21;01m.\u001b[39;00m\u001b[38;5;21;01m.\u001b[39;00m\u001b[38;5;21;01mover_sampling\u001b[39;00m\u001b[38;5;21;01m.\u001b[39;00m\u001b[38;5;21;01mbase\u001b[39;00m \u001b[38;5;28;01mimport\u001b[39;00m BaseOverSampler\n",
      "File \u001b[1;32mE:\\Anaconda1\\Lib\\site-packages\\imblearn\\base.py:15\u001b[0m\n\u001b[0;32m     12\u001b[0m \u001b[38;5;28;01mfrom\u001b[39;00m \u001b[38;5;21;01msklearn\u001b[39;00m\u001b[38;5;21;01m.\u001b[39;00m\u001b[38;5;21;01mutils\u001b[39;00m\u001b[38;5;21;01m.\u001b[39;00m\u001b[38;5;21;01m_metadata_requests\u001b[39;00m \u001b[38;5;28;01mimport\u001b[39;00m METHODS\n\u001b[0;32m     13\u001b[0m \u001b[38;5;28;01mfrom\u001b[39;00m \u001b[38;5;21;01msklearn\u001b[39;00m\u001b[38;5;21;01m.\u001b[39;00m\u001b[38;5;21;01mutils\u001b[39;00m\u001b[38;5;21;01m.\u001b[39;00m\u001b[38;5;21;01mmulticlass\u001b[39;00m \u001b[38;5;28;01mimport\u001b[39;00m check_classification_targets\n\u001b[1;32m---> 15\u001b[0m \u001b[38;5;28;01mfrom\u001b[39;00m \u001b[38;5;21;01m.\u001b[39;00m\u001b[38;5;21;01mutils\u001b[39;00m \u001b[38;5;28;01mimport\u001b[39;00m check_sampling_strategy, check_target_type\n\u001b[0;32m     16\u001b[0m \u001b[38;5;28;01mfrom\u001b[39;00m \u001b[38;5;21;01m.\u001b[39;00m\u001b[38;5;21;01mutils\u001b[39;00m\u001b[38;5;21;01m.\u001b[39;00m\u001b[38;5;21;01m_sklearn_compat\u001b[39;00m \u001b[38;5;28;01mimport\u001b[39;00m _fit_context, get_tags, validate_data\n\u001b[0;32m     17\u001b[0m \u001b[38;5;28;01mfrom\u001b[39;00m \u001b[38;5;21;01m.\u001b[39;00m\u001b[38;5;21;01mutils\u001b[39;00m\u001b[38;5;21;01m.\u001b[39;00m\u001b[38;5;21;01m_validation\u001b[39;00m \u001b[38;5;28;01mimport\u001b[39;00m ArraysTransformer\n",
      "File \u001b[1;32mE:\\Anaconda1\\Lib\\site-packages\\imblearn\\utils\\__init__.py:6\u001b[0m\n\u001b[0;32m      1\u001b[0m \u001b[38;5;124;03m\"\"\"\u001b[39;00m\n\u001b[0;32m      2\u001b[0m \u001b[38;5;124;03mThe :mod:`imblearn.utils` module includes various utilities.\u001b[39;00m\n\u001b[0;32m      3\u001b[0m \u001b[38;5;124;03m\"\"\"\u001b[39;00m\n\u001b[0;32m      5\u001b[0m \u001b[38;5;28;01mfrom\u001b[39;00m \u001b[38;5;21;01m.\u001b[39;00m\u001b[38;5;21;01m_docstring\u001b[39;00m \u001b[38;5;28;01mimport\u001b[39;00m Substitution\n\u001b[1;32m----> 6\u001b[0m \u001b[38;5;28;01mfrom\u001b[39;00m \u001b[38;5;21;01m.\u001b[39;00m\u001b[38;5;21;01m_validation\u001b[39;00m \u001b[38;5;28;01mimport\u001b[39;00m (\n\u001b[0;32m      7\u001b[0m     check_neighbors_object,\n\u001b[0;32m      8\u001b[0m     check_sampling_strategy,\n\u001b[0;32m      9\u001b[0m     check_target_type,\n\u001b[0;32m     10\u001b[0m )\n\u001b[0;32m     12\u001b[0m __all__ \u001b[38;5;241m=\u001b[39m [\n\u001b[0;32m     13\u001b[0m     \u001b[38;5;124m\"\u001b[39m\u001b[38;5;124mcheck_neighbors_object\u001b[39m\u001b[38;5;124m\"\u001b[39m,\n\u001b[0;32m     14\u001b[0m     \u001b[38;5;124m\"\u001b[39m\u001b[38;5;124mcheck_sampling_strategy\u001b[39m\u001b[38;5;124m\"\u001b[39m,\n\u001b[0;32m     15\u001b[0m     \u001b[38;5;124m\"\u001b[39m\u001b[38;5;124mcheck_target_type\u001b[39m\u001b[38;5;124m\"\u001b[39m,\n\u001b[0;32m     16\u001b[0m     \u001b[38;5;124m\"\u001b[39m\u001b[38;5;124mSubstitution\u001b[39m\u001b[38;5;124m\"\u001b[39m,\n\u001b[0;32m     17\u001b[0m ]\n",
      "File \u001b[1;32mE:\\Anaconda1\\Lib\\site-packages\\imblearn\\utils\\_validation.py:20\u001b[0m\n\u001b[0;32m     17\u001b[0m \u001b[38;5;28;01mfrom\u001b[39;00m \u001b[38;5;21;01msklearn\u001b[39;00m\u001b[38;5;21;01m.\u001b[39;00m\u001b[38;5;21;01mutils\u001b[39;00m\u001b[38;5;21;01m.\u001b[39;00m\u001b[38;5;21;01mmulticlass\u001b[39;00m \u001b[38;5;28;01mimport\u001b[39;00m type_of_target\n\u001b[0;32m     18\u001b[0m \u001b[38;5;28;01mfrom\u001b[39;00m \u001b[38;5;21;01msklearn\u001b[39;00m\u001b[38;5;21;01m.\u001b[39;00m\u001b[38;5;21;01mutils\u001b[39;00m\u001b[38;5;21;01m.\u001b[39;00m\u001b[38;5;21;01mvalidation\u001b[39;00m \u001b[38;5;28;01mimport\u001b[39;00m _num_samples\n\u001b[1;32m---> 20\u001b[0m \u001b[38;5;28;01mfrom\u001b[39;00m \u001b[38;5;21;01m.\u001b[39;00m\u001b[38;5;21;01m.\u001b[39;00m\u001b[38;5;21;01mutils\u001b[39;00m\u001b[38;5;21;01m.\u001b[39;00m\u001b[38;5;21;01m_sklearn_compat\u001b[39;00m \u001b[38;5;28;01mimport\u001b[39;00m _is_pandas_df, check_array\n\u001b[0;32m     22\u001b[0m SAMPLING_KIND \u001b[38;5;241m=\u001b[39m (\n\u001b[0;32m     23\u001b[0m     \u001b[38;5;124m\"\u001b[39m\u001b[38;5;124mover-sampling\u001b[39m\u001b[38;5;124m\"\u001b[39m,\n\u001b[0;32m     24\u001b[0m     \u001b[38;5;124m\"\u001b[39m\u001b[38;5;124munder-sampling\u001b[39m\u001b[38;5;124m\"\u001b[39m,\n\u001b[1;32m   (...)\u001b[0m\n\u001b[0;32m     27\u001b[0m     \u001b[38;5;124m\"\u001b[39m\u001b[38;5;124mbypass\u001b[39m\u001b[38;5;124m\"\u001b[39m,\n\u001b[0;32m     28\u001b[0m )\n\u001b[0;32m     29\u001b[0m TARGET_KIND \u001b[38;5;241m=\u001b[39m (\u001b[38;5;124m\"\u001b[39m\u001b[38;5;124mbinary\u001b[39m\u001b[38;5;124m\"\u001b[39m, \u001b[38;5;124m\"\u001b[39m\u001b[38;5;124mmulticlass\u001b[39m\u001b[38;5;124m\"\u001b[39m, \u001b[38;5;124m\"\u001b[39m\u001b[38;5;124mmultilabel-indicator\u001b[39m\u001b[38;5;124m\"\u001b[39m)\n",
      "File \u001b[1;32mE:\\Anaconda1\\Lib\\site-packages\\imblearn\\utils\\_sklearn_compat.py:370\u001b[0m\n\u001b[0;32m    363\u001b[0m \u001b[38;5;66;03m########################################################################################\u001b[39;00m\n\u001b[0;32m    364\u001b[0m \u001b[38;5;66;03m# Upgrading for scikit-learn 1.6\u001b[39;00m\n\u001b[0;32m    365\u001b[0m \u001b[38;5;66;03m########################################################################################\u001b[39;00m\n\u001b[0;32m    368\u001b[0m \u001b[38;5;28;01mif\u001b[39;00m sklearn_version \u001b[38;5;241m<\u001b[39m parse_version(\u001b[38;5;124m\"\u001b[39m\u001b[38;5;124m1.6\u001b[39m\u001b[38;5;124m\"\u001b[39m):\n\u001b[0;32m    369\u001b[0m     \u001b[38;5;66;03m# test_common\u001b[39;00m\n\u001b[1;32m--> 370\u001b[0m     \u001b[38;5;28;01mfrom\u001b[39;00m \u001b[38;5;21;01msklearn\u001b[39;00m\u001b[38;5;21;01m.\u001b[39;00m\u001b[38;5;21;01mutils\u001b[39;00m\u001b[38;5;21;01m.\u001b[39;00m\u001b[38;5;21;01mestimator_checks\u001b[39;00m \u001b[38;5;28;01mimport\u001b[39;00m _construct_instance\n\u001b[0;32m    372\u001b[0m     \u001b[38;5;28;01mdef\u001b[39;00m \u001b[38;5;21mtype_of_target\u001b[39m(y, input_name\u001b[38;5;241m=\u001b[39m\u001b[38;5;124m\"\u001b[39m\u001b[38;5;124m\"\u001b[39m, \u001b[38;5;241m*\u001b[39m, raise_unknown\u001b[38;5;241m=\u001b[39m\u001b[38;5;28;01mFalse\u001b[39;00m):\n\u001b[0;32m    373\u001b[0m         \u001b[38;5;66;03m# fix for raise_unknown which is introduced in scikit-learn 1.6\u001b[39;00m\n\u001b[0;32m    374\u001b[0m         \u001b[38;5;28;01mfrom\u001b[39;00m \u001b[38;5;21;01msklearn\u001b[39;00m\u001b[38;5;21;01m.\u001b[39;00m\u001b[38;5;21;01mutils\u001b[39;00m\u001b[38;5;21;01m.\u001b[39;00m\u001b[38;5;21;01mmulticlass\u001b[39;00m \u001b[38;5;28;01mimport\u001b[39;00m type_of_target\n",
      "File \u001b[1;32mE:\\Anaconda1\\Lib\\site-packages\\sklearn\\utils\\estimator_checks.py:63\u001b[0m\n\u001b[0;32m     58\u001b[0m \u001b[38;5;28;01mfrom\u001b[39;00m \u001b[38;5;21;01m.\u001b[39;00m\u001b[38;5;21;01m_param_validation\u001b[39;00m \u001b[38;5;28;01mimport\u001b[39;00m Interval\n\u001b[0;32m     59\u001b[0m \u001b[38;5;28;01mfrom\u001b[39;00m \u001b[38;5;21;01m.\u001b[39;00m\u001b[38;5;21;01m_tags\u001b[39;00m \u001b[38;5;28;01mimport\u001b[39;00m (\n\u001b[0;32m     60\u001b[0m     _DEFAULT_TAGS,\n\u001b[0;32m     61\u001b[0m     _safe_tags,\n\u001b[0;32m     62\u001b[0m )\n\u001b[1;32m---> 63\u001b[0m \u001b[38;5;28;01mfrom\u001b[39;00m \u001b[38;5;21;01m.\u001b[39;00m\u001b[38;5;21;01m_testing\u001b[39;00m \u001b[38;5;28;01mimport\u001b[39;00m (\n\u001b[0;32m     64\u001b[0m     SkipTest,\n\u001b[0;32m     65\u001b[0m     _get_args,\n\u001b[0;32m     66\u001b[0m     assert_allclose,\n\u001b[0;32m     67\u001b[0m     assert_allclose_dense_sparse,\n\u001b[0;32m     68\u001b[0m     assert_array_almost_equal,\n\u001b[0;32m     69\u001b[0m     assert_array_equal,\n\u001b[0;32m     70\u001b[0m     assert_array_less,\n\u001b[0;32m     71\u001b[0m     assert_raise_message,\n\u001b[0;32m     72\u001b[0m     create_memmap_backed_data,\n\u001b[0;32m     73\u001b[0m     ignore_warnings,\n\u001b[0;32m     74\u001b[0m     raises,\n\u001b[0;32m     75\u001b[0m     set_random_state,\n\u001b[0;32m     76\u001b[0m )\n\u001b[0;32m     77\u001b[0m \u001b[38;5;28;01mfrom\u001b[39;00m \u001b[38;5;21;01m.\u001b[39;00m\u001b[38;5;21;01mvalidation\u001b[39;00m \u001b[38;5;28;01mimport\u001b[39;00m _num_samples, has_fit_parameter\n\u001b[0;32m     79\u001b[0m REGRESSION_DATASET \u001b[38;5;241m=\u001b[39m \u001b[38;5;28;01mNone\u001b[39;00m\n",
      "File \u001b[1;32mE:\\Anaconda1\\Lib\\site-packages\\sklearn\\utils\\_testing.py:371\u001b[0m\n\u001b[0;32m    368\u001b[0m skip_if_32bit \u001b[38;5;241m=\u001b[39m pytest\u001b[38;5;241m.\u001b[39mmark\u001b[38;5;241m.\u001b[39mskipif(_IS_32BIT, reason\u001b[38;5;241m=\u001b[39m\u001b[38;5;124m\"\u001b[39m\u001b[38;5;124mskipped on 32bit platforms\u001b[39m\u001b[38;5;124m\"\u001b[39m)\n\u001b[0;32m    369\u001b[0m fails_if_pypy \u001b[38;5;241m=\u001b[39m pytest\u001b[38;5;241m.\u001b[39mmark\u001b[38;5;241m.\u001b[39mxfail(IS_PYPY, reason\u001b[38;5;241m=\u001b[39m\u001b[38;5;124m\"\u001b[39m\u001b[38;5;124mnot compatible with PyPy\u001b[39m\u001b[38;5;124m\"\u001b[39m)\n\u001b[0;32m    370\u001b[0m fails_if_unstable_openblas \u001b[38;5;241m=\u001b[39m pytest\u001b[38;5;241m.\u001b[39mmark\u001b[38;5;241m.\u001b[39mxfail(\n\u001b[1;32m--> 371\u001b[0m     _in_unstable_openblas_configuration(),\n\u001b[0;32m    372\u001b[0m     reason\u001b[38;5;241m=\u001b[39m\u001b[38;5;124m\"\u001b[39m\u001b[38;5;124mOpenBLAS is unstable for this configuration\u001b[39m\u001b[38;5;124m\"\u001b[39m,\n\u001b[0;32m    373\u001b[0m )\n\u001b[0;32m    374\u001b[0m skip_if_no_parallel \u001b[38;5;241m=\u001b[39m pytest\u001b[38;5;241m.\u001b[39mmark\u001b[38;5;241m.\u001b[39mskipif(\n\u001b[0;32m    375\u001b[0m     \u001b[38;5;129;01mnot\u001b[39;00m joblib\u001b[38;5;241m.\u001b[39mparallel\u001b[38;5;241m.\u001b[39mmp, reason\u001b[38;5;241m=\u001b[39m\u001b[38;5;124m\"\u001b[39m\u001b[38;5;124mjoblib is in serial mode\u001b[39m\u001b[38;5;124m\"\u001b[39m\n\u001b[0;32m    376\u001b[0m )\n\u001b[0;32m    377\u001b[0m skip_if_array_api_compat_not_configured \u001b[38;5;241m=\u001b[39m pytest\u001b[38;5;241m.\u001b[39mmark\u001b[38;5;241m.\u001b[39mskipif(\n\u001b[0;32m    378\u001b[0m     \u001b[38;5;129;01mnot\u001b[39;00m ARRAY_API_COMPAT_FUNCTIONAL,\n\u001b[0;32m    379\u001b[0m     reason\u001b[38;5;241m=\u001b[39m\u001b[38;5;124m\"\u001b[39m\u001b[38;5;124mrequires array_api_compat installed and a new enough version of NumPy\u001b[39m\u001b[38;5;124m\"\u001b[39m,\n\u001b[0;32m    380\u001b[0m )\n",
      "File \u001b[1;32mE:\\Anaconda1\\Lib\\site-packages\\sklearn\\utils\\__init__.py:89\u001b[0m, in \u001b[0;36m_in_unstable_openblas_configuration\u001b[1;34m()\u001b[0m\n\u001b[0;32m     86\u001b[0m \u001b[38;5;28;01mimport\u001b[39;00m \u001b[38;5;21;01mnumpy\u001b[39;00m  \u001b[38;5;66;03m# noqa\u001b[39;00m\n\u001b[0;32m     87\u001b[0m \u001b[38;5;28;01mimport\u001b[39;00m \u001b[38;5;21;01mscipy\u001b[39;00m  \u001b[38;5;66;03m# noqa\u001b[39;00m\n\u001b[1;32m---> 89\u001b[0m modules_info \u001b[38;5;241m=\u001b[39m threadpool_info()\n\u001b[0;32m     91\u001b[0m open_blas_used \u001b[38;5;241m=\u001b[39m \u001b[38;5;28many\u001b[39m(info[\u001b[38;5;124m\"\u001b[39m\u001b[38;5;124minternal_api\u001b[39m\u001b[38;5;124m\"\u001b[39m] \u001b[38;5;241m==\u001b[39m \u001b[38;5;124m\"\u001b[39m\u001b[38;5;124mopenblas\u001b[39m\u001b[38;5;124m\"\u001b[39m \u001b[38;5;28;01mfor\u001b[39;00m info \u001b[38;5;129;01min\u001b[39;00m modules_info)\n\u001b[0;32m     92\u001b[0m \u001b[38;5;28;01mif\u001b[39;00m \u001b[38;5;129;01mnot\u001b[39;00m open_blas_used:\n",
      "File \u001b[1;32mE:\\Anaconda1\\Lib\\site-packages\\sklearn\\utils\\fixes.py:85\u001b[0m, in \u001b[0;36mthreadpool_info\u001b[1;34m()\u001b[0m\n\u001b[0;32m     83\u001b[0m     \u001b[38;5;28;01mreturn\u001b[39;00m controller\u001b[38;5;241m.\u001b[39minfo()\n\u001b[0;32m     84\u001b[0m \u001b[38;5;28;01melse\u001b[39;00m:\n\u001b[1;32m---> 85\u001b[0m     \u001b[38;5;28;01mreturn\u001b[39;00m threadpoolctl\u001b[38;5;241m.\u001b[39mthreadpool_info()\n",
      "File \u001b[1;32mE:\\Anaconda1\\Lib\\site-packages\\threadpoolctl.py:124\u001b[0m, in \u001b[0;36mthreadpool_info\u001b[1;34m()\u001b[0m\n\u001b[0;32m    107\u001b[0m \u001b[38;5;129m@_format_docstring\u001b[39m(USER_APIS\u001b[38;5;241m=\u001b[39m\u001b[38;5;28mlist\u001b[39m(_ALL_USER_APIS),\n\u001b[0;32m    108\u001b[0m                    INTERNAL_APIS\u001b[38;5;241m=\u001b[39m_ALL_INTERNAL_APIS)\n\u001b[0;32m    109\u001b[0m \u001b[38;5;28;01mdef\u001b[39;00m \u001b[38;5;21mthreadpool_info\u001b[39m():\n\u001b[0;32m    110\u001b[0m \u001b[38;5;250m    \u001b[39m\u001b[38;5;124;03m\"\"\"Return the maximal number of threads for each detected library.\u001b[39;00m\n\u001b[0;32m    111\u001b[0m \n\u001b[0;32m    112\u001b[0m \u001b[38;5;124;03m    Return a list with all the supported modules that have been found. Each\u001b[39;00m\n\u001b[1;32m   (...)\u001b[0m\n\u001b[0;32m    122\u001b[0m \u001b[38;5;124;03m    In addition, each module may contain internal_api specific entries.\u001b[39;00m\n\u001b[0;32m    123\u001b[0m \u001b[38;5;124;03m    \"\"\"\u001b[39;00m\n\u001b[1;32m--> 124\u001b[0m     \u001b[38;5;28;01mreturn\u001b[39;00m _ThreadpoolInfo(user_api\u001b[38;5;241m=\u001b[39m_ALL_USER_APIS)\u001b[38;5;241m.\u001b[39mtodicts()\n",
      "File \u001b[1;32mE:\\Anaconda1\\Lib\\site-packages\\threadpoolctl.py:340\u001b[0m, in \u001b[0;36m_ThreadpoolInfo.__init__\u001b[1;34m(self, user_api, prefixes, modules)\u001b[0m\n\u001b[0;32m    337\u001b[0m     \u001b[38;5;28mself\u001b[39m\u001b[38;5;241m.\u001b[39muser_api \u001b[38;5;241m=\u001b[39m [] \u001b[38;5;28;01mif\u001b[39;00m user_api \u001b[38;5;129;01mis\u001b[39;00m \u001b[38;5;28;01mNone\u001b[39;00m \u001b[38;5;28;01melse\u001b[39;00m user_api\n\u001b[0;32m    339\u001b[0m     \u001b[38;5;28mself\u001b[39m\u001b[38;5;241m.\u001b[39mmodules \u001b[38;5;241m=\u001b[39m []\n\u001b[1;32m--> 340\u001b[0m     \u001b[38;5;28mself\u001b[39m\u001b[38;5;241m.\u001b[39m_load_modules()\n\u001b[0;32m    341\u001b[0m     \u001b[38;5;28mself\u001b[39m\u001b[38;5;241m.\u001b[39m_warn_if_incompatible_openmp()\n\u001b[0;32m    342\u001b[0m \u001b[38;5;28;01melse\u001b[39;00m:\n",
      "File \u001b[1;32mE:\\Anaconda1\\Lib\\site-packages\\threadpoolctl.py:373\u001b[0m, in \u001b[0;36m_ThreadpoolInfo._load_modules\u001b[1;34m(self)\u001b[0m\n\u001b[0;32m    371\u001b[0m     \u001b[38;5;28mself\u001b[39m\u001b[38;5;241m.\u001b[39m_find_modules_with_dyld()\n\u001b[0;32m    372\u001b[0m \u001b[38;5;28;01melif\u001b[39;00m sys\u001b[38;5;241m.\u001b[39mplatform \u001b[38;5;241m==\u001b[39m \u001b[38;5;124m\"\u001b[39m\u001b[38;5;124mwin32\u001b[39m\u001b[38;5;124m\"\u001b[39m:\n\u001b[1;32m--> 373\u001b[0m     \u001b[38;5;28mself\u001b[39m\u001b[38;5;241m.\u001b[39m_find_modules_with_enum_process_module_ex()\n\u001b[0;32m    374\u001b[0m \u001b[38;5;28;01melse\u001b[39;00m:\n\u001b[0;32m    375\u001b[0m     \u001b[38;5;28mself\u001b[39m\u001b[38;5;241m.\u001b[39m_find_modules_with_dl_iterate_phdr()\n",
      "File \u001b[1;32mE:\\Anaconda1\\Lib\\site-packages\\threadpoolctl.py:485\u001b[0m, in \u001b[0;36m_ThreadpoolInfo._find_modules_with_enum_process_module_ex\u001b[1;34m(self)\u001b[0m\n\u001b[0;32m    482\u001b[0m         filepath \u001b[38;5;241m=\u001b[39m buf\u001b[38;5;241m.\u001b[39mvalue\n\u001b[0;32m    484\u001b[0m         \u001b[38;5;66;03m# Store the module if it is supported and selected\u001b[39;00m\n\u001b[1;32m--> 485\u001b[0m         \u001b[38;5;28mself\u001b[39m\u001b[38;5;241m.\u001b[39m_make_module_from_path(filepath)\n\u001b[0;32m    486\u001b[0m \u001b[38;5;28;01mfinally\u001b[39;00m:\n\u001b[0;32m    487\u001b[0m     kernel_32\u001b[38;5;241m.\u001b[39mCloseHandle(h_process)\n",
      "File \u001b[1;32mE:\\Anaconda1\\Lib\\site-packages\\threadpoolctl.py:515\u001b[0m, in \u001b[0;36m_ThreadpoolInfo._make_module_from_path\u001b[1;34m(self, filepath)\u001b[0m\n\u001b[0;32m    513\u001b[0m \u001b[38;5;28;01mif\u001b[39;00m prefix \u001b[38;5;129;01min\u001b[39;00m \u001b[38;5;28mself\u001b[39m\u001b[38;5;241m.\u001b[39mprefixes \u001b[38;5;129;01mor\u001b[39;00m user_api \u001b[38;5;129;01min\u001b[39;00m \u001b[38;5;28mself\u001b[39m\u001b[38;5;241m.\u001b[39muser_api:\n\u001b[0;32m    514\u001b[0m     module_class \u001b[38;5;241m=\u001b[39m \u001b[38;5;28mglobals\u001b[39m()[module_class]\n\u001b[1;32m--> 515\u001b[0m     module \u001b[38;5;241m=\u001b[39m module_class(filepath, prefix, user_api, internal_api)\n\u001b[0;32m    516\u001b[0m     \u001b[38;5;28mself\u001b[39m\u001b[38;5;241m.\u001b[39mmodules\u001b[38;5;241m.\u001b[39mappend(module)\n",
      "File \u001b[1;32mE:\\Anaconda1\\Lib\\site-packages\\threadpoolctl.py:606\u001b[0m, in \u001b[0;36m_Module.__init__\u001b[1;34m(self, filepath, prefix, user_api, internal_api)\u001b[0m\n\u001b[0;32m    604\u001b[0m \u001b[38;5;28mself\u001b[39m\u001b[38;5;241m.\u001b[39minternal_api \u001b[38;5;241m=\u001b[39m internal_api\n\u001b[0;32m    605\u001b[0m \u001b[38;5;28mself\u001b[39m\u001b[38;5;241m.\u001b[39m_dynlib \u001b[38;5;241m=\u001b[39m ctypes\u001b[38;5;241m.\u001b[39mCDLL(filepath, mode\u001b[38;5;241m=\u001b[39m_RTLD_NOLOAD)\n\u001b[1;32m--> 606\u001b[0m \u001b[38;5;28mself\u001b[39m\u001b[38;5;241m.\u001b[39mversion \u001b[38;5;241m=\u001b[39m \u001b[38;5;28mself\u001b[39m\u001b[38;5;241m.\u001b[39mget_version()\n\u001b[0;32m    607\u001b[0m \u001b[38;5;28mself\u001b[39m\u001b[38;5;241m.\u001b[39mnum_threads \u001b[38;5;241m=\u001b[39m \u001b[38;5;28mself\u001b[39m\u001b[38;5;241m.\u001b[39mget_num_threads()\n\u001b[0;32m    608\u001b[0m \u001b[38;5;28mself\u001b[39m\u001b[38;5;241m.\u001b[39m_get_extra_info()\n",
      "File \u001b[1;32mE:\\Anaconda1\\Lib\\site-packages\\threadpoolctl.py:646\u001b[0m, in \u001b[0;36m_OpenBLASModule.get_version\u001b[1;34m(self)\u001b[0m\n\u001b[0;32m    643\u001b[0m get_config \u001b[38;5;241m=\u001b[39m \u001b[38;5;28mgetattr\u001b[39m(\u001b[38;5;28mself\u001b[39m\u001b[38;5;241m.\u001b[39m_dynlib, \u001b[38;5;124m\"\u001b[39m\u001b[38;5;124mopenblas_get_config\u001b[39m\u001b[38;5;124m\"\u001b[39m,\n\u001b[0;32m    644\u001b[0m                      \u001b[38;5;28;01mlambda\u001b[39;00m: \u001b[38;5;28;01mNone\u001b[39;00m)\n\u001b[0;32m    645\u001b[0m get_config\u001b[38;5;241m.\u001b[39mrestype \u001b[38;5;241m=\u001b[39m ctypes\u001b[38;5;241m.\u001b[39mc_char_p\n\u001b[1;32m--> 646\u001b[0m config \u001b[38;5;241m=\u001b[39m get_config()\u001b[38;5;241m.\u001b[39msplit()\n\u001b[0;32m    647\u001b[0m \u001b[38;5;28;01mif\u001b[39;00m config[\u001b[38;5;241m0\u001b[39m] \u001b[38;5;241m==\u001b[39m \u001b[38;5;124mb\u001b[39m\u001b[38;5;124m\"\u001b[39m\u001b[38;5;124mOpenBLAS\u001b[39m\u001b[38;5;124m\"\u001b[39m:\n\u001b[0;32m    648\u001b[0m     \u001b[38;5;28;01mreturn\u001b[39;00m config[\u001b[38;5;241m1\u001b[39m]\u001b[38;5;241m.\u001b[39mdecode(\u001b[38;5;124m\"\u001b[39m\u001b[38;5;124mutf-8\u001b[39m\u001b[38;5;124m\"\u001b[39m)\n",
      "\u001b[1;31mAttributeError\u001b[0m: 'NoneType' object has no attribute 'split'"
     ]
    }
   ],
   "source": [
    "import pandas as pd\n",
    "import matplotlib.pyplot as plt\n",
    "import numpy as np\n",
    "import seaborn as sns\n",
    "from sklearn.model_selection import train_test_split\n",
    "from sklearn.ensemble import RandomForestClassifier\n",
    "from sklearn.svm import SVC\n",
    "from sklearn.neural_network import MLPClassifier\n",
    "from sklearn.metrics import accuracy_score, classification_report\n",
    "import lightgbm as lgb\n",
    "from sklearn.metrics import accuracy_score\n",
    "from scipy.stats import chi2_contingency\n",
    "from scipy.stats import ttest_ind\n",
    "import tensorflow as tf\n",
    "from tensorflow.keras import layers, models, callbacks\n",
    "import warnings\n",
    "from imblearn.over_sampling import SMOTE"
   ]
  },
  {
   "cell_type": "markdown",
   "id": "3425a906",
   "metadata": {},
   "source": [
    "# Carregamento da base de dados e transformação das váriaveis"
   ]
  },
  {
   "cell_type": "code",
   "execution_count": null,
   "id": "9a18f874",
   "metadata": {},
   "outputs": [],
   "source": [
    "warnings.filterwarnings(\"ignore\") "
   ]
  },
  {
   "cell_type": "code",
   "execution_count": null,
   "id": "fabfc5b9",
   "metadata": {},
   "outputs": [],
   "source": [
    "planinha = pd.ExcelFile(\"Base_MUNIC_2021_20240425.xlsx\")\n",
    "planinha.sheet_names"
   ]
  },
  {
   "cell_type": "code",
   "execution_count": null,
   "id": "16fc006d",
   "metadata": {},
   "outputs": [],
   "source": [
    "df = pd.read_excel(\"Base_MUNIC_2021_20240425.xlsx\", sheet_name=\"Informações atual prefeito\")\n",
    "df"
   ]
  },
  {
   "cell_type": "code",
   "execution_count": null,
   "id": "fc2c1907",
   "metadata": {},
   "outputs": [],
   "source": [
    "df.shape"
   ]
  },
  {
   "cell_type": "code",
   "execution_count": null,
   "id": "8aa14936",
   "metadata": {},
   "outputs": [],
   "source": [
    "df.info()"
   ]
  },
  {
   "cell_type": "code",
   "execution_count": null,
   "id": "4bcd5116",
   "metadata": {
    "scrolled": true
   },
   "outputs": [],
   "source": [
    "colunas_remover = [\"CodMun\", \"Cod UF\", 'Pop estimada 2021', 'Mpeg051']\n",
    "df = df.drop(colunas_remover, axis=1)\n",
    "df"
   ]
  },
  {
   "cell_type": "code",
   "execution_count": null,
   "id": "517a9443",
   "metadata": {},
   "outputs": [],
   "source": [
    "df.columns"
   ]
  },
  {
   "cell_type": "code",
   "execution_count": null,
   "id": "d0641870",
   "metadata": {},
   "outputs": [],
   "source": [
    "df.dtypes"
   ]
  },
  {
   "cell_type": "code",
   "execution_count": null,
   "id": "b6cc7580",
   "metadata": {},
   "outputs": [],
   "source": [
    "df = df.rename(columns={\"Mpeg02\": \"Reeleito\", \"Mpeg03\":\"Sexo\", \"Mpeg04\":\"Idade\", \"Mpeg05\":\"Cor\", \"Mpeg06\": \"Escolaridade\"})\n",
    "df "
   ]
  },
  {
   "cell_type": "code",
   "execution_count": null,
   "id": "0fc706af",
   "metadata": {},
   "outputs": [],
   "source": [
    "df[\"Mun\"] = df[\"Mun\"].astype(\"string\")\n",
    "df[\"Faixa_pop\"] = df[\"Faixa_pop\"].astype(\"category\")\n",
    "df[\"Regiao\"] = df[\"Regiao\"].astype(\"category\")\n",
    "df[\"UF\"] = df[\"UF\"].astype(\"category\")\n",
    "df[\"Reeleito\"] = df[\"Reeleito\"].astype(\"category\")\n",
    "df[\"Sexo\"] = df[\"Sexo\"].astype(\"category\")\n",
    "df[\"Cor\"] = df[\"Cor\"].astype(\"category\")\n",
    "df[\"Escolaridade\"] = df[\"Escolaridade\"].astype(\"category\")"
   ]
  },
  {
   "cell_type": "code",
   "execution_count": null,
   "id": "1ad43548",
   "metadata": {},
   "outputs": [],
   "source": [
    "def tirar_texto(string):\n",
    "    index = string.find(\"-\") + 1\n",
    "    return string[index:]"
   ]
  },
  {
   "cell_type": "code",
   "execution_count": null,
   "id": "a11dd756",
   "metadata": {},
   "outputs": [],
   "source": [
    "df[\"Faixa_pop\"] = df[\"Faixa_pop\"].apply(tirar_texto)\n",
    "df[\"Regiao\"] = df[\"Regiao\"].apply(tirar_texto)\n",
    "df"
   ]
  },
  {
   "cell_type": "code",
   "execution_count": null,
   "id": "c2c03bf1",
   "metadata": {},
   "outputs": [],
   "source": [
    "df['Escolaridade'].unique()"
   ]
  },
  {
   "cell_type": "code",
   "execution_count": null,
   "id": "1462ffd4",
   "metadata": {},
   "outputs": [],
   "source": [
    "df = df.replace(\"Não\", \"Nao\")"
   ]
  },
  {
   "cell_type": "code",
   "execution_count": null,
   "id": "cab8f963",
   "metadata": {},
   "outputs": [],
   "source": [
    "df = df.replace({\"Não informou\": None, \"Recusa\": None})\n",
    "df = df[df[\"Idade\"].notna()]"
   ]
  },
  {
   "cell_type": "code",
   "execution_count": null,
   "id": "dacc8fce",
   "metadata": {},
   "outputs": [],
   "source": [
    "df[\"Idade\"] = df[\"Idade\"].astype(\"int\")"
   ]
  },
  {
   "cell_type": "markdown",
   "id": "81d5ec65",
   "metadata": {},
   "source": [
    "# Análise exploratória "
   ]
  },
  {
   "cell_type": "code",
   "execution_count": null,
   "id": "91b6a4ed",
   "metadata": {},
   "outputs": [],
   "source": [
    "df.groupby(\"Reeleito\", observed=False)['UF'].count().plot(kind='bar', figsize=(8,4))"
   ]
  },
  {
   "cell_type": "code",
   "execution_count": null,
   "id": "ed0fef04",
   "metadata": {},
   "outputs": [],
   "source": [
    "df.groupby(\"Escolaridade\", observed=False)['UF'].count().plot(kind='bar', figsize=(8,4))"
   ]
  },
  {
   "cell_type": "code",
   "execution_count": null,
   "id": "b813b976",
   "metadata": {},
   "outputs": [],
   "source": [
    "df.groupby(\"Faixa_pop\", observed=False)['UF'].count().plot(kind='bar', figsize=(8,4))"
   ]
  },
  {
   "cell_type": "code",
   "execution_count": null,
   "id": "58613dbd",
   "metadata": {},
   "outputs": [],
   "source": [
    "df1 = df.copy()\n",
    "df1 = df1.drop(columns=['UF', 'Mun', 'Idade'])\n",
    "colunas = df1.columns\n",
    "colunas"
   ]
  },
  {
   "cell_type": "code",
   "execution_count": null,
   "id": "d6ce07da",
   "metadata": {},
   "outputs": [],
   "source": [
    "plt.figure(figsize=(18,8))\n",
    "for i, col in enumerate(colunas, 1):\n",
    "    if col == 'Reeleito':\n",
    "        continue\n",
    "    plt.subplot(4,3,i)\n",
    "    agrupado = df1.groupby([col, \"Reeleito\"], observed=False).size().reset_index(name=\"Contagem\")\n",
    "    sns.barplot(y = col, x = 'Contagem', hue='Reeleito', data=agrupado, orient='h')\n",
    "    plt.title(f'Contagem de candidatos por {col} e Reeleção')\n",
    "    plt.ylabel(col)\n",
    "    plt.xlabel('Contagem')\n",
    "    plt.legend().remove()\n",
    "    if i == len(colunas) - 1:\n",
    "        handles, labels = plt.gca().get_legend_handles_labels()\n",
    "plt.tight_layout()\n",
    "plt.figlegend(handles, labels, loc='upper right', ncol=2, bbox_to_anchor=(1, 1))\n",
    "plt.show()"
   ]
  },
  {
   "cell_type": "code",
   "execution_count": null,
   "id": "9da9cb0e",
   "metadata": {},
   "outputs": [],
   "source": [
    "agrupado = df.groupby([\"Regiao\", \"Cor\"], observed=False).size().reset_index(name=\"Contagem\")\n",
    "agrupado"
   ]
  },
  {
   "cell_type": "code",
   "execution_count": 407,
   "id": "6d491612",
   "metadata": {},
   "outputs": [
    {
     "data": {
      "image/png": "[encoded data removed]",
      "text/plain": [
       "<Figure size 640x480 with 1 Axes>"
      ]
     },
     "metadata": {},
     "output_type": "display_data"
    }
   ],
   "source": [
    "sns.barplot(x = 'Regiao', y = 'Contagem', hue='Cor', data=agrupado)\n",
    "plt.title('Contagem de candidatos por Região e Cor')\n",
    "plt.xlabel('Região')\n",
    "plt.ylabel('Cor')\n",
    "\n",
    "plt.show()"
   ]
  },
  {
   "cell_type": "code",
   "execution_count": 408,
   "id": "04a847dd",
   "metadata": {},
   "outputs": [
    {
     "data": {
      "text/plain": [
       "count    5557.000000\n",
       "mean       50.010077\n",
       "std        10.867994\n",
       "min        21.000000\n",
       "25%        42.000000\n",
       "50%        50.000000\n",
       "75%        58.000000\n",
       "max        95.000000\n",
       "Name: Idade, dtype: float64"
      ]
     },
     "execution_count": 408,
     "metadata": {},
     "output_type": "execute_result"
    }
   ],
   "source": [
    "df[\"Idade\"].describe()"
   ]
  },
  {
   "cell_type": "code",
   "execution_count": 409,
   "id": "950f508d",
   "metadata": {
    "scrolled": false
   },
   "outputs": [
    {
     "data": {
      "image/png": "[encoded data removed]",
      "text/plain": [
       "<Figure size 1000x600 with 1 Axes>"
      ]
     },
     "metadata": {},
     "output_type": "display_data"
    }
   ],
   "source": [
    "plt.figure(figsize=(10, 6))\n",
    "sns.boxplot(x='Reeleito', y='Idade', data=df)\n",
    "plt.show()"
   ]
  },
  {
   "cell_type": "code",
   "execution_count": 410,
   "id": "4d5461bc",
   "metadata": {
    "scrolled": true
   },
   "outputs": [
    {
     "data": {
      "image/png": "[encoded data removed]",
      "text/plain": [
       "<Figure size 600x300 with 2 Axes>"
      ]
     },
     "metadata": {},
     "output_type": "display_data"
    }
   ],
   "source": [
    "g = sns.FacetGrid(df, col='Reeleito')\n",
    "g.map(plt.hist, 'Idade')\n",
    "plt.show()"
   ]
  },
  {
   "cell_type": "markdown",
   "id": "121fe0b6",
   "metadata": {},
   "source": [
    "# Pre-processamento e escolha das váriaveis"
   ]
  },
  {
   "cell_type": "code",
   "execution_count": 411,
   "id": "8b9ccf42",
   "metadata": {},
   "outputs": [
    {
     "data": {
      "text/html": [
       "<div>\n",
       "<style scoped>\n",
       "    .dataframe tbody tr th:only-of-type {\n",
       "        vertical-align: middle;\n",
       "    }\n",
       "\n",
       "    .dataframe tbody tr th {\n",
       "        vertical-align: top;\n",
       "    }\n",
       "\n",
       "    .dataframe thead th {\n",
       "        text-align: right;\n",
       "    }\n",
       "</style>\n",
       "<table border=\"1\" class=\"dataframe\">\n",
       "  <thead>\n",
       "    <tr style=\"text-align: right;\">\n",
       "      <th></th>\n",
       "      <th>UF</th>\n",
       "      <th>Mun</th>\n",
       "      <th>Faixa_pop</th>\n",
       "      <th>Regiao</th>\n",
       "      <th>Reeleito</th>\n",
       "      <th>Sexo</th>\n",
       "      <th>Idade</th>\n",
       "      <th>Cor</th>\n",
       "      <th>Escolaridade</th>\n",
       "    </tr>\n",
       "  </thead>\n",
       "  <tbody>\n",
       "    <tr>\n",
       "      <th>0</th>\n",
       "      <td>RO</td>\n",
       "      <td>Alta Floresta DOeste</td>\n",
       "      <td>20001 até 50000</td>\n",
       "      <td>Norte</td>\n",
       "      <td>False</td>\n",
       "      <td>Masculino</td>\n",
       "      <td>40</td>\n",
       "      <td>Branca</td>\n",
       "      <td>Especialização</td>\n",
       "    </tr>\n",
       "    <tr>\n",
       "      <th>1</th>\n",
       "      <td>RO</td>\n",
       "      <td>Ariquemes</td>\n",
       "      <td>100001 até 500000</td>\n",
       "      <td>Norte</td>\n",
       "      <td>False</td>\n",
       "      <td>Feminino</td>\n",
       "      <td>33</td>\n",
       "      <td>Branca</td>\n",
       "      <td>Ensino superior completo</td>\n",
       "    </tr>\n",
       "    <tr>\n",
       "      <th>2</th>\n",
       "      <td>RO</td>\n",
       "      <td>Cabixi</td>\n",
       "      <td>5001 até 10000</td>\n",
       "      <td>Norte</td>\n",
       "      <td>True</td>\n",
       "      <td>Masculino</td>\n",
       "      <td>50</td>\n",
       "      <td>Parda</td>\n",
       "      <td>Ensino superior completo</td>\n",
       "    </tr>\n",
       "    <tr>\n",
       "      <th>3</th>\n",
       "      <td>RO</td>\n",
       "      <td>Cacoal</td>\n",
       "      <td>50001 até 100000</td>\n",
       "      <td>Norte</td>\n",
       "      <td>False</td>\n",
       "      <td>Masculino</td>\n",
       "      <td>35</td>\n",
       "      <td>Parda</td>\n",
       "      <td>Ensino superior completo</td>\n",
       "    </tr>\n",
       "    <tr>\n",
       "      <th>4</th>\n",
       "      <td>RO</td>\n",
       "      <td>Cerejeiras</td>\n",
       "      <td>10001 até 20000</td>\n",
       "      <td>Norte</td>\n",
       "      <td>True</td>\n",
       "      <td>Feminino</td>\n",
       "      <td>57</td>\n",
       "      <td>Branca</td>\n",
       "      <td>Ensino superior completo</td>\n",
       "    </tr>\n",
       "    <tr>\n",
       "      <th>...</th>\n",
       "      <td>...</td>\n",
       "      <td>...</td>\n",
       "      <td>...</td>\n",
       "      <td>...</td>\n",
       "      <td>...</td>\n",
       "      <td>...</td>\n",
       "      <td>...</td>\n",
       "      <td>...</td>\n",
       "      <td>...</td>\n",
       "    </tr>\n",
       "    <tr>\n",
       "      <th>5565</th>\n",
       "      <td>GO</td>\n",
       "      <td>Vianópolis</td>\n",
       "      <td>10001 até 20000</td>\n",
       "      <td>Centro-Oeste</td>\n",
       "      <td>False</td>\n",
       "      <td>Masculino</td>\n",
       "      <td>38</td>\n",
       "      <td>Branca</td>\n",
       "      <td>Ensino superior completo</td>\n",
       "    </tr>\n",
       "    <tr>\n",
       "      <th>5566</th>\n",
       "      <td>GO</td>\n",
       "      <td>Vicentinópolis</td>\n",
       "      <td>5001 até 10000</td>\n",
       "      <td>Centro-Oeste</td>\n",
       "      <td>True</td>\n",
       "      <td>Masculino</td>\n",
       "      <td>55</td>\n",
       "      <td>Branca</td>\n",
       "      <td>Ensino médio (2º Grau) completo</td>\n",
       "    </tr>\n",
       "    <tr>\n",
       "      <th>5567</th>\n",
       "      <td>GO</td>\n",
       "      <td>Vila Boa</td>\n",
       "      <td>5001 até 10000</td>\n",
       "      <td>Centro-Oeste</td>\n",
       "      <td>False</td>\n",
       "      <td>Masculino</td>\n",
       "      <td>49</td>\n",
       "      <td>Branca</td>\n",
       "      <td>Ensino superior completo</td>\n",
       "    </tr>\n",
       "    <tr>\n",
       "      <th>5568</th>\n",
       "      <td>GO</td>\n",
       "      <td>Vila Propício</td>\n",
       "      <td>5001 até 10000</td>\n",
       "      <td>Centro-Oeste</td>\n",
       "      <td>False</td>\n",
       "      <td>Masculino</td>\n",
       "      <td>49</td>\n",
       "      <td>Parda</td>\n",
       "      <td>Ensino superior completo</td>\n",
       "    </tr>\n",
       "    <tr>\n",
       "      <th>5569</th>\n",
       "      <td>DF</td>\n",
       "      <td>Brasília</td>\n",
       "      <td>Maior que 500000</td>\n",
       "      <td>Centro-Oeste</td>\n",
       "      <td>True</td>\n",
       "      <td>Masculino</td>\n",
       "      <td>47</td>\n",
       "      <td>Branca</td>\n",
       "      <td>Mestrado</td>\n",
       "    </tr>\n",
       "  </tbody>\n",
       "</table>\n",
       "<p>5557 rows × 9 columns</p>\n",
       "</div>"
      ],
      "text/plain": [
       "      UF                   Mun           Faixa_pop         Regiao  Reeleito  \\\n",
       "0     RO  Alta Floresta DOeste     20001 até 50000          Norte     False   \n",
       "1     RO             Ariquemes   100001 até 500000          Norte     False   \n",
       "2     RO                Cabixi      5001 até 10000          Norte      True   \n",
       "3     RO                Cacoal    50001 até 100000          Norte     False   \n",
       "4     RO            Cerejeiras     10001 até 20000          Norte      True   \n",
       "...   ..                   ...                 ...            ...       ...   \n",
       "5565  GO            Vianópolis     10001 até 20000   Centro-Oeste     False   \n",
       "5566  GO        Vicentinópolis      5001 até 10000   Centro-Oeste      True   \n",
       "5567  GO              Vila Boa      5001 até 10000   Centro-Oeste     False   \n",
       "5568  GO         Vila Propício      5001 até 10000   Centro-Oeste     False   \n",
       "5569  DF              Brasília    Maior que 500000   Centro-Oeste      True   \n",
       "\n",
       "           Sexo  Idade     Cor                     Escolaridade  \n",
       "0     Masculino     40  Branca                   Especialização  \n",
       "1      Feminino     33  Branca         Ensino superior completo  \n",
       "2     Masculino     50   Parda         Ensino superior completo  \n",
       "3     Masculino     35   Parda         Ensino superior completo  \n",
       "4      Feminino     57  Branca         Ensino superior completo  \n",
       "...         ...    ...     ...                              ...  \n",
       "5565  Masculino     38  Branca         Ensino superior completo  \n",
       "5566  Masculino     55  Branca  Ensino médio (2º Grau) completo  \n",
       "5567  Masculino     49  Branca         Ensino superior completo  \n",
       "5568  Masculino     49   Parda         Ensino superior completo  \n",
       "5569  Masculino     47  Branca                         Mestrado  \n",
       "\n",
       "[5557 rows x 9 columns]"
      ]
     },
     "execution_count": 411,
     "metadata": {},
     "output_type": "execute_result"
    }
   ],
   "source": [
    "df['Reeleito'] = df['Reeleito'].replace({'Sim': 1, 'Nao': 0})\n",
    "df['Reeleito'] = df['Reeleito'].astype('bool')\n",
    "df"
   ]
  },
  {
   "cell_type": "markdown",
   "id": "873cfa9e",
   "metadata": {},
   "source": [
    "Correlação entre as váriaveis independentes com a target váriavel usando o teste Chi-quadrado para as categóricas e t-student para a númerica."
   ]
  },
  {
   "cell_type": "code",
   "execution_count": 412,
   "id": "eeeb24e7",
   "metadata": {},
   "outputs": [
    {
     "name": "stdout",
     "output_type": "stream",
     "text": [
      "UF: p-valor = 0.31469\n",
      "Mun: p-valor = 0.40540\n",
      "Faixa_pop: p-valor = 0.01750\n",
      "Regiao: p-valor = 0.65197\n",
      "Sexo: p-valor = 0.00007\n",
      "Cor: p-valor = 0.19880\n",
      "Escolaridade: p-valor = 0.60785\n"
     ]
    }
   ],
   "source": [
    "categorical_vars = ['UF', 'Mun', 'Faixa_pop', 'Regiao', 'Sexo', 'Cor', 'Escolaridade']\n",
    "\n",
    "for var in categorical_vars:\n",
    "    tabela = pd.crosstab(df[var], df['Reeleito'])\n",
    "    chi2, p, dof, expected = chi2_contingency(tabela)\n",
    "    print(f\"{var}: p-valor = {p:.5f}\")"
   ]
  },
  {
   "cell_type": "code",
   "execution_count": 413,
   "id": "e462ea01",
   "metadata": {},
   "outputs": [
    {
     "name": "stdout",
     "output_type": "stream",
     "text": [
      "Idade: p-valor = 0.00000\n"
     ]
    }
   ],
   "source": [
    "numeric_vars = ['Idade']\n",
    "\n",
    "for var in numeric_vars:\n",
    "    grupo_0 = df[df['Reeleito'] == 0][var]\n",
    "    grupo_1 = df[df['Reeleito'] == 1][var]\n",
    "    t_stat, p_valor = ttest_ind(grupo_0, grupo_1, nan_policy='omit')\n",
    "    print(f\"{var}: p-valor = {p_valor:.5f}\")"
   ]
  },
  {
   "cell_type": "code",
   "execution_count": 414,
   "id": "dd7d75ba",
   "metadata": {},
   "outputs": [],
   "source": [
    "y = df['Reeleito']\n",
    "X = pd.get_dummies(df.drop(columns=['Reeleito', 'Mun', 'UF'], axis=1))"
   ]
  },
  {
   "cell_type": "code",
   "execution_count": 415,
   "id": "ef75f9c6",
   "metadata": {},
   "outputs": [
    {
     "data": {
      "text/plain": [
       "Reeleito\n",
       "False    3245\n",
       "True     3245\n",
       "Name: count, dtype: int64"
      ]
     },
     "execution_count": 415,
     "metadata": {},
     "output_type": "execute_result"
    }
   ],
   "source": [
    "smotenc=SMOTE() \n",
    "X,y=smotenc.fit_resample(X,y)\n",
    "y.value_counts()"
   ]
  },
  {
   "cell_type": "markdown",
   "id": "0aaf8967",
   "metadata": {},
   "source": [
    "# Modelo com Rede Neural Feedforward"
   ]
  },
  {
   "cell_type": "code",
   "execution_count": 416,
   "id": "5c06dcd4",
   "metadata": {},
   "outputs": [],
   "source": [
    "X_train, X_test, y_train, y_test = train_test_split(X, y, test_size=0.2, random_state=42)"
   ]
  },
  {
   "cell_type": "code",
   "execution_count": 417,
   "id": "a86be89f",
   "metadata": {},
   "outputs": [],
   "source": [
    "X_train = np.asarray(X_train).astype(np.float32)\n",
    "y_train = np.asarray(y_train).astype(np.float32)\n",
    "X_test = np.asarray(X_test).astype(np.float32)\n",
    "y_test = np.asarray(y_test).astype(np.float32)"
   ]
  },
  {
   "cell_type": "code",
   "execution_count": 418,
   "id": "e9f2d2c6",
   "metadata": {},
   "outputs": [],
   "source": [
    "model = models.Sequential([\n",
    "    layers.Input(shape=(X_train.shape[1],)), \n",
    "    layers.Dense(128, activation='relu'), \n",
    "    layers.Dense(64, activation='relu'),\n",
    "    layers.Dense(32, activation='relu'),\n",
    "    layers.Dense(1, activation='sigmoid')  \n",
    "])\n",
    "\n",
    "\n",
    "model.compile(\n",
    "    optimizer='adam',\n",
    "    loss='binary_crossentropy',\n",
    "    metrics=[\n",
    "        'accuracy',\n",
    "        tf.keras.metrics.Precision(name='precision'),\n",
    "        tf.keras.metrics.Recall(name='recall'),\n",
    "        tf.keras.metrics.AUC(name='auc')\n",
    "    ]\n",
    ")"
   ]
  },
  {
   "cell_type": "code",
   "execution_count": 419,
   "id": "829894bd",
   "metadata": {
    "scrolled": true
   },
   "outputs": [
    {
     "name": "stdout",
     "output_type": "stream",
     "text": [
      "Epoch 1/100\n",
      "\u001b[1m146/146\u001b[0m \u001b[32m━━━━━━━━━━━━━━━━━━━━\u001b[0m\u001b[37m\u001b[0m \u001b[1m5s\u001b[0m 9ms/step - accuracy: 0.4792 - auc: 0.4731 - loss: 0.7871 - precision: 0.4855 - recall: 0.4908 - val_accuracy: 0.4885 - val_auc: 0.5478 - val_loss: 0.7113 - val_precision: 0.0000e+00 - val_recall: 0.0000e+00\n",
      "Epoch 2/100\n",
      "\u001b[1m146/146\u001b[0m \u001b[32m━━━━━━━━━━━━━━━━━━━━\u001b[0m\u001b[37m\u001b[0m \u001b[1m0s\u001b[0m 2ms/step - accuracy: 0.5289 - auc: 0.5336 - loss: 0.7004 - precision: 0.5106 - recall: 0.4545 - val_accuracy: 0.5192 - val_auc: 0.5987 - val_loss: 0.7140 - val_precision: 0.5156 - val_recall: 0.9962\n",
      "Epoch 3/100\n",
      "\u001b[1m146/146\u001b[0m \u001b[32m━━━━━━━━━━━━━━━━━━━━\u001b[0m\u001b[37m\u001b[0m \u001b[1m0s\u001b[0m 2ms/step - accuracy: 0.5393 - auc: 0.5640 - loss: 0.6883 - precision: 0.5459 - recall: 0.5391 - val_accuracy: 0.5019 - val_auc: 0.6197 - val_loss: 0.6947 - val_precision: 0.8889 - val_recall: 0.0301\n",
      "Epoch 4/100\n",
      "\u001b[1m146/146\u001b[0m \u001b[32m━━━━━━━━━━━━━━━━━━━━\u001b[0m\u001b[37m\u001b[0m \u001b[1m0s\u001b[0m 2ms/step - accuracy: 0.5310 - auc: 0.5497 - loss: 0.7064 - precision: 0.5348 - recall: 0.4769 - val_accuracy: 0.5712 - val_auc: 0.6137 - val_loss: 0.6735 - val_precision: 0.5670 - val_recall: 0.6842\n",
      "Epoch 5/100\n",
      "\u001b[1m146/146\u001b[0m \u001b[32m━━━━━━━━━━━━━━━━━━━━\u001b[0m\u001b[37m\u001b[0m \u001b[1m0s\u001b[0m 2ms/step - accuracy: 0.5619 - auc: 0.5781 - loss: 0.6887 - precision: 0.5626 - recall: 0.5893 - val_accuracy: 0.5538 - val_auc: 0.6180 - val_loss: 0.6823 - val_precision: 0.6635 - val_recall: 0.2594\n",
      "Epoch 6/100\n",
      "\u001b[1m146/146\u001b[0m \u001b[32m━━━━━━━━━━━━━━━━━━━━\u001b[0m\u001b[37m\u001b[0m \u001b[1m0s\u001b[0m 2ms/step - accuracy: 0.5660 - auc: 0.5858 - loss: 0.6891 - precision: 0.5641 - recall: 0.5066 - val_accuracy: 0.5808 - val_auc: 0.6159 - val_loss: 0.6718 - val_precision: 0.5811 - val_recall: 0.6466\n",
      "Epoch 7/100\n",
      "\u001b[1m146/146\u001b[0m \u001b[32m━━━━━━━━━━━━━━━━━━━━\u001b[0m\u001b[37m\u001b[0m \u001b[1m0s\u001b[0m 2ms/step - accuracy: 0.5844 - auc: 0.6130 - loss: 0.6732 - precision: 0.5776 - recall: 0.6105 - val_accuracy: 0.5846 - val_auc: 0.6258 - val_loss: 0.6712 - val_precision: 0.6276 - val_recall: 0.4624\n",
      "Epoch 8/100\n",
      "\u001b[1m146/146\u001b[0m \u001b[32m━━━━━━━━━━━━━━━━━━━━\u001b[0m\u001b[37m\u001b[0m \u001b[1m0s\u001b[0m 3ms/step - accuracy: 0.5640 - auc: 0.5961 - loss: 0.6848 - precision: 0.5676 - recall: 0.5382 - val_accuracy: 0.5808 - val_auc: 0.6252 - val_loss: 0.6698 - val_precision: 0.6017 - val_recall: 0.5338\n",
      "Epoch 9/100\n",
      "\u001b[1m146/146\u001b[0m \u001b[32m━━━━━━━━━━━━━━━━━━━━\u001b[0m\u001b[37m\u001b[0m \u001b[1m0s\u001b[0m 3ms/step - accuracy: 0.5986 - auc: 0.6308 - loss: 0.6688 - precision: 0.6020 - recall: 0.5747 - val_accuracy: 0.5885 - val_auc: 0.6171 - val_loss: 0.6779 - val_precision: 0.5628 - val_recall: 0.8759\n",
      "Epoch 10/100\n",
      "\u001b[1m146/146\u001b[0m \u001b[32m━━━━━━━━━━━━━━━━━━━━\u001b[0m\u001b[37m\u001b[0m \u001b[1m0s\u001b[0m 3ms/step - accuracy: 0.5863 - auc: 0.6158 - loss: 0.6723 - precision: 0.5882 - recall: 0.6257 - val_accuracy: 0.5827 - val_auc: 0.6273 - val_loss: 0.6655 - val_precision: 0.5866 - val_recall: 0.6241\n",
      "Epoch 11/100\n",
      "\u001b[1m146/146\u001b[0m \u001b[32m━━━━━━━━━━━━━━━━━━━━\u001b[0m\u001b[37m\u001b[0m \u001b[1m0s\u001b[0m 2ms/step - accuracy: 0.5852 - auc: 0.6161 - loss: 0.6726 - precision: 0.5841 - recall: 0.5775 - val_accuracy: 0.5885 - val_auc: 0.6256 - val_loss: 0.6660 - val_precision: 0.5903 - val_recall: 0.6391\n",
      "Epoch 12/100\n",
      "\u001b[1m146/146\u001b[0m \u001b[32m━━━━━━━━━━━━━━━━━━━━\u001b[0m\u001b[37m\u001b[0m \u001b[1m0s\u001b[0m 2ms/step - accuracy: 0.5753 - auc: 0.6107 - loss: 0.6735 - precision: 0.5744 - recall: 0.5912 - val_accuracy: 0.5654 - val_auc: 0.6252 - val_loss: 0.6662 - val_precision: 0.5613 - val_recall: 0.6880\n",
      "Epoch 13/100\n",
      "\u001b[1m146/146\u001b[0m \u001b[32m━━━━━━━━━━━━━━━━━━━━\u001b[0m\u001b[37m\u001b[0m \u001b[1m0s\u001b[0m 3ms/step - accuracy: 0.5997 - auc: 0.6337 - loss: 0.6658 - precision: 0.6077 - recall: 0.5737 - val_accuracy: 0.5750 - val_auc: 0.6308 - val_loss: 0.6642 - val_precision: 0.5701 - val_recall: 0.6880\n",
      "Epoch 14/100\n",
      "\u001b[1m146/146\u001b[0m \u001b[32m━━━━━━━━━━━━━━━━━━━━\u001b[0m\u001b[37m\u001b[0m \u001b[1m0s\u001b[0m 2ms/step - accuracy: 0.5999 - auc: 0.6286 - loss: 0.6678 - precision: 0.6008 - recall: 0.6693 - val_accuracy: 0.5385 - val_auc: 0.6358 - val_loss: 0.6963 - val_precision: 0.8095 - val_recall: 0.1278\n",
      "Epoch 15/100\n",
      "\u001b[1m146/146\u001b[0m \u001b[32m━━━━━━━━━━━━━━━━━━━━\u001b[0m\u001b[37m\u001b[0m \u001b[1m0s\u001b[0m 2ms/step - accuracy: 0.5946 - auc: 0.6338 - loss: 0.6649 - precision: 0.6066 - recall: 0.5219 - val_accuracy: 0.5846 - val_auc: 0.6267 - val_loss: 0.6884 - val_precision: 0.5571 - val_recall: 0.9173\n",
      "Epoch 16/100\n",
      "\u001b[1m146/146\u001b[0m \u001b[32m━━━━━━━━━━━━━━━━━━━━\u001b[0m\u001b[37m\u001b[0m \u001b[1m0s\u001b[0m 2ms/step - accuracy: 0.5809 - auc: 0.6122 - loss: 0.6744 - precision: 0.5877 - recall: 0.5784 - val_accuracy: 0.5788 - val_auc: 0.6310 - val_loss: 0.6622 - val_precision: 0.5880 - val_recall: 0.5902\n",
      "Epoch 17/100\n",
      "\u001b[1m146/146\u001b[0m \u001b[32m━━━━━━━━━━━━━━━━━━━━\u001b[0m\u001b[37m\u001b[0m \u001b[1m0s\u001b[0m 2ms/step - accuracy: 0.6058 - auc: 0.6378 - loss: 0.6623 - precision: 0.6146 - recall: 0.5273 - val_accuracy: 0.5827 - val_auc: 0.6335 - val_loss: 0.6603 - val_precision: 0.5932 - val_recall: 0.5865\n",
      "Epoch 18/100\n",
      "\u001b[1m146/146\u001b[0m \u001b[32m━━━━━━━━━━━━━━━━━━━━\u001b[0m\u001b[37m\u001b[0m \u001b[1m0s\u001b[0m 2ms/step - accuracy: 0.5988 - auc: 0.6455 - loss: 0.6581 - precision: 0.6036 - recall: 0.5589 - val_accuracy: 0.5808 - val_auc: 0.6326 - val_loss: 0.6616 - val_precision: 0.5976 - val_recall: 0.5526\n",
      "Epoch 19/100\n",
      "\u001b[1m146/146\u001b[0m \u001b[32m━━━━━━━━━━━━━━━━━━━━\u001b[0m\u001b[37m\u001b[0m \u001b[1m0s\u001b[0m 2ms/step - accuracy: 0.5926 - auc: 0.6268 - loss: 0.6647 - precision: 0.5924 - recall: 0.5201 - val_accuracy: 0.5846 - val_auc: 0.6403 - val_loss: 0.6726 - val_precision: 0.6838 - val_recall: 0.3496\n",
      "Epoch 20/100\n",
      "\u001b[1m146/146\u001b[0m \u001b[32m━━━━━━━━━━━━━━━━━━━━\u001b[0m\u001b[37m\u001b[0m \u001b[1m0s\u001b[0m 2ms/step - accuracy: 0.6020 - auc: 0.6418 - loss: 0.6589 - precision: 0.6041 - recall: 0.5452 - val_accuracy: 0.5750 - val_auc: 0.6374 - val_loss: 0.6718 - val_precision: 0.5561 - val_recall: 0.8383\n",
      "Epoch 21/100\n",
      "\u001b[1m146/146\u001b[0m \u001b[32m━━━━━━━━━━━━━━━━━━━━\u001b[0m\u001b[37m\u001b[0m \u001b[1m0s\u001b[0m 3ms/step - accuracy: 0.5944 - auc: 0.6431 - loss: 0.6589 - precision: 0.5995 - recall: 0.6211 - val_accuracy: 0.5827 - val_auc: 0.6390 - val_loss: 0.6609 - val_precision: 0.5657 - val_recall: 0.7932\n",
      "Epoch 22/100\n",
      "\u001b[1m146/146\u001b[0m \u001b[32m━━━━━━━━━━━━━━━━━━━━\u001b[0m\u001b[37m\u001b[0m \u001b[1m0s\u001b[0m 2ms/step - accuracy: 0.5786 - auc: 0.6223 - loss: 0.6674 - precision: 0.5838 - recall: 0.5248 - val_accuracy: 0.5846 - val_auc: 0.6370 - val_loss: 0.6825 - val_precision: 0.8788 - val_recall: 0.2180\n",
      "Epoch 23/100\n",
      "\u001b[1m146/146\u001b[0m \u001b[32m━━━━━━━━━━━━━━━━━━━━\u001b[0m\u001b[37m\u001b[0m \u001b[1m0s\u001b[0m 2ms/step - accuracy: 0.5983 - auc: 0.6494 - loss: 0.6557 - precision: 0.6145 - recall: 0.5231 - val_accuracy: 0.5788 - val_auc: 0.6418 - val_loss: 0.6581 - val_precision: 0.5651 - val_recall: 0.7669\n",
      "Epoch 24/100\n",
      "\u001b[1m146/146\u001b[0m \u001b[32m━━━━━━━━━━━━━━━━━━━━\u001b[0m\u001b[37m\u001b[0m \u001b[1m0s\u001b[0m 2ms/step - accuracy: 0.5960 - auc: 0.6368 - loss: 0.6602 - precision: 0.6027 - recall: 0.5493 - val_accuracy: 0.5615 - val_auc: 0.6387 - val_loss: 0.6552 - val_precision: 0.5576 - val_recall: 0.6917\n",
      "Epoch 25/100\n",
      "\u001b[1m146/146\u001b[0m \u001b[32m━━━━━━━━━━━━━━━━━━━━\u001b[0m\u001b[37m\u001b[0m \u001b[1m0s\u001b[0m 3ms/step - accuracy: 0.5843 - auc: 0.6362 - loss: 0.6584 - precision: 0.5906 - recall: 0.5763 - val_accuracy: 0.5885 - val_auc: 0.6446 - val_loss: 0.6594 - val_precision: 0.6566 - val_recall: 0.4098\n",
      "Epoch 26/100\n",
      "\u001b[1m146/146\u001b[0m \u001b[32m━━━━━━━━━━━━━━━━━━━━\u001b[0m\u001b[37m\u001b[0m \u001b[1m0s\u001b[0m 2ms/step - accuracy: 0.5969 - auc: 0.6546 - loss: 0.6507 - precision: 0.6007 - recall: 0.5862 - val_accuracy: 0.5827 - val_auc: 0.6410 - val_loss: 0.6523 - val_precision: 0.6070 - val_recall: 0.5226\n",
      "Epoch 27/100\n",
      "\u001b[1m146/146\u001b[0m \u001b[32m━━━━━━━━━━━━━━━━━━━━\u001b[0m\u001b[37m\u001b[0m \u001b[1m0s\u001b[0m 2ms/step - accuracy: 0.5952 - auc: 0.6447 - loss: 0.6558 - precision: 0.6067 - recall: 0.5638 - val_accuracy: 0.5808 - val_auc: 0.6410 - val_loss: 0.6526 - val_precision: 0.5789 - val_recall: 0.6617\n",
      "Epoch 28/100\n",
      "\u001b[1m146/146\u001b[0m \u001b[32m━━━━━━━━━━━━━━━━━━━━\u001b[0m\u001b[37m\u001b[0m \u001b[1m0s\u001b[0m 2ms/step - accuracy: 0.5899 - auc: 0.6442 - loss: 0.6552 - precision: 0.5941 - recall: 0.5523 - val_accuracy: 0.5769 - val_auc: 0.6432 - val_loss: 0.6544 - val_precision: 0.5635 - val_recall: 0.7669\n",
      "Epoch 29/100\n",
      "\u001b[1m146/146\u001b[0m \u001b[32m━━━━━━━━━━━━━━━━━━━━\u001b[0m\u001b[37m\u001b[0m \u001b[1m0s\u001b[0m 2ms/step - accuracy: 0.6080 - auc: 0.6656 - loss: 0.6447 - precision: 0.6111 - recall: 0.6144 - val_accuracy: 0.5808 - val_auc: 0.6442 - val_loss: 0.6515 - val_precision: 0.6200 - val_recall: 0.4662\n",
      "Epoch 30/100\n",
      "\u001b[1m146/146\u001b[0m \u001b[32m━━━━━━━━━━━━━━━━━━━━\u001b[0m\u001b[37m\u001b[0m \u001b[1m0s\u001b[0m 2ms/step - accuracy: 0.6131 - auc: 0.6644 - loss: 0.6425 - precision: 0.6253 - recall: 0.5423 - val_accuracy: 0.5981 - val_auc: 0.6509 - val_loss: 0.6618 - val_precision: 0.7615 - val_recall: 0.3120\n",
      "Epoch 31/100\n",
      "\u001b[1m146/146\u001b[0m \u001b[32m━━━━━━━━━━━━━━━━━━━━\u001b[0m\u001b[37m\u001b[0m \u001b[1m0s\u001b[0m 2ms/step - accuracy: 0.6082 - auc: 0.6641 - loss: 0.6415 - precision: 0.6240 - recall: 0.5711 - val_accuracy: 0.5962 - val_auc: 0.6510 - val_loss: 0.6743 - val_precision: 0.9000 - val_recall: 0.2368\n",
      "Epoch 32/100\n",
      "\u001b[1m146/146\u001b[0m \u001b[32m━━━━━━━━━━━━━━━━━━━━\u001b[0m\u001b[37m\u001b[0m \u001b[1m0s\u001b[0m 2ms/step - accuracy: 0.5934 - auc: 0.6522 - loss: 0.6495 - precision: 0.6196 - recall: 0.5496 - val_accuracy: 0.5673 - val_auc: 0.6472 - val_loss: 0.6476 - val_precision: 0.5527 - val_recall: 0.8083\n",
      "Epoch 33/100\n",
      "\u001b[1m146/146\u001b[0m \u001b[32m━━━━━━━━━━━━━━━━━━━━\u001b[0m\u001b[37m\u001b[0m \u001b[1m0s\u001b[0m 3ms/step - accuracy: 0.5986 - auc: 0.6563 - loss: 0.6445 - precision: 0.6003 - recall: 0.5544 - val_accuracy: 0.5865 - val_auc: 0.6504 - val_loss: 0.6873 - val_precision: 0.9811 - val_recall: 0.1955\n",
      "Epoch 34/100\n",
      "\u001b[1m146/146\u001b[0m \u001b[32m━━━━━━━━━━━━━━━━━━━━\u001b[0m\u001b[37m\u001b[0m \u001b[1m0s\u001b[0m 3ms/step - accuracy: 0.6043 - auc: 0.6577 - loss: 0.6448 - precision: 0.6255 - recall: 0.5715 - val_accuracy: 0.5942 - val_auc: 0.6530 - val_loss: 0.6466 - val_precision: 0.6752 - val_recall: 0.3985\n",
      "Epoch 35/100\n",
      "\u001b[1m146/146\u001b[0m \u001b[32m━━━━━━━━━━━━━━━━━━━━\u001b[0m\u001b[37m\u001b[0m \u001b[1m0s\u001b[0m 2ms/step - accuracy: 0.5942 - auc: 0.6475 - loss: 0.6501 - precision: 0.6030 - recall: 0.6010 - val_accuracy: 0.6038 - val_auc: 0.6512 - val_loss: 0.6603 - val_precision: 0.8333 - val_recall: 0.2820\n",
      "Epoch 36/100\n",
      "\u001b[1m146/146\u001b[0m \u001b[32m━━━━━━━━━━━━━━━━━━━━\u001b[0m\u001b[37m\u001b[0m \u001b[1m0s\u001b[0m 3ms/step - accuracy: 0.5985 - auc: 0.6581 - loss: 0.6443 - precision: 0.6178 - recall: 0.5617 - val_accuracy: 0.5962 - val_auc: 0.6441 - val_loss: 0.6397 - val_precision: 0.6228 - val_recall: 0.5338\n",
      "Epoch 37/100\n",
      "\u001b[1m146/146\u001b[0m \u001b[32m━━━━━━━━━━━━━━━━━━━━\u001b[0m\u001b[37m\u001b[0m \u001b[1m0s\u001b[0m 3ms/step - accuracy: 0.6010 - auc: 0.6489 - loss: 0.6468 - precision: 0.6180 - recall: 0.5291 - val_accuracy: 0.5692 - val_auc: 0.6481 - val_loss: 0.6471 - val_precision: 0.5553 - val_recall: 0.7932\n",
      "Epoch 38/100\n",
      "\u001b[1m146/146\u001b[0m \u001b[32m━━━━━━━━━━━━━━━━━━━━\u001b[0m\u001b[37m\u001b[0m \u001b[1m0s\u001b[0m 2ms/step - accuracy: 0.5936 - auc: 0.6523 - loss: 0.6466 - precision: 0.5909 - recall: 0.6124 - val_accuracy: 0.5635 - val_auc: 0.6393 - val_loss: 0.6384 - val_precision: 0.5559 - val_recall: 0.7293\n",
      "Epoch 39/100\n",
      "\u001b[1m146/146\u001b[0m \u001b[32m━━━━━━━━━━━━━━━━━━━━\u001b[0m\u001b[37m\u001b[0m \u001b[1m0s\u001b[0m 3ms/step - accuracy: 0.6108 - auc: 0.6737 - loss: 0.6274 - precision: 0.6154 - recall: 0.5891 - val_accuracy: 0.5923 - val_auc: 0.6409 - val_loss: 0.6933 - val_precision: 0.9821 - val_recall: 0.2068\n",
      "Epoch 40/100\n",
      "\u001b[1m146/146\u001b[0m \u001b[32m━━━━━━━━━━━━━━━━━━━━\u001b[0m\u001b[37m\u001b[0m \u001b[1m0s\u001b[0m 3ms/step - accuracy: 0.6214 - auc: 0.6798 - loss: 0.6275 - precision: 0.6878 - recall: 0.4659 - val_accuracy: 0.5962 - val_auc: 0.6517 - val_loss: 0.6334 - val_precision: 0.7333 - val_recall: 0.3308\n",
      "Epoch 41/100\n",
      "\u001b[1m146/146\u001b[0m \u001b[32m━━━━━━━━━━━━━━━━━━━━\u001b[0m\u001b[37m\u001b[0m \u001b[1m0s\u001b[0m 3ms/step - accuracy: 0.6165 - auc: 0.6682 - loss: 0.6312 - precision: 0.6392 - recall: 0.4945 - val_accuracy: 0.5923 - val_auc: 0.6413 - val_loss: 0.6318 - val_precision: 0.8214 - val_recall: 0.2594\n",
      "Epoch 42/100\n",
      "\u001b[1m146/146\u001b[0m \u001b[32m━━━━━━━━━━━━━━━━━━━━\u001b[0m\u001b[37m\u001b[0m \u001b[1m0s\u001b[0m 3ms/step - accuracy: 0.6124 - auc: 0.6825 - loss: 0.6162 - precision: 0.6653 - recall: 0.4546 - val_accuracy: 0.5731 - val_auc: 0.6471 - val_loss: 0.6169 - val_precision: 0.5887 - val_recall: 0.5489\n",
      "Epoch 43/100\n",
      "\u001b[1m146/146\u001b[0m \u001b[32m━━━━━━━━━━━━━━━━━━━━\u001b[0m\u001b[37m\u001b[0m \u001b[1m0s\u001b[0m 3ms/step - accuracy: 0.6047 - auc: 0.6610 - loss: 0.6281 - precision: 0.6279 - recall: 0.5575 - val_accuracy: 0.5962 - val_auc: 0.6370 - val_loss: 0.6227 - val_precision: 0.7373 - val_recall: 0.3271\n",
      "Epoch 44/100\n",
      "\u001b[1m146/146\u001b[0m \u001b[32m━━━━━━━━━━━━━━━━━━━━\u001b[0m\u001b[37m\u001b[0m \u001b[1m0s\u001b[0m 2ms/step - accuracy: 0.5984 - auc: 0.6588 - loss: 0.6214 - precision: 0.6271 - recall: 0.5082 - val_accuracy: 0.5962 - val_auc: 0.6500 - val_loss: 0.6192 - val_precision: 0.7692 - val_recall: 0.3008\n",
      "Epoch 45/100\n",
      "\u001b[1m146/146\u001b[0m \u001b[32m━━━━━━━━━━━━━━━━━━━━\u001b[0m\u001b[37m\u001b[0m \u001b[1m0s\u001b[0m 2ms/step - accuracy: 0.6120 - auc: 0.6717 - loss: 0.6252 - precision: 0.6694 - recall: 0.4714 - val_accuracy: 0.5615 - val_auc: 0.6493 - val_loss: 0.6251 - val_precision: 0.5562 - val_recall: 0.7068\n",
      "Epoch 46/100\n",
      "\u001b[1m146/146\u001b[0m \u001b[32m━━━━━━━━━━━━━━━━━━━━\u001b[0m\u001b[37m\u001b[0m \u001b[1m0s\u001b[0m 2ms/step - accuracy: 0.6031 - auc: 0.6705 - loss: 0.6166 - precision: 0.6287 - recall: 0.5290 - val_accuracy: 0.5942 - val_auc: 0.6522 - val_loss: 0.6536 - val_precision: 0.9508 - val_recall: 0.2180\n",
      "Epoch 47/100\n",
      "\u001b[1m146/146\u001b[0m \u001b[32m━━━━━━━━━━━━━━━━━━━━\u001b[0m\u001b[37m\u001b[0m \u001b[1m0s\u001b[0m 2ms/step - accuracy: 0.5994 - auc: 0.6671 - loss: 0.6182 - precision: 0.6419 - recall: 0.4909 - val_accuracy: 0.5500 - val_auc: 0.6413 - val_loss: 0.6205 - val_precision: 0.5516 - val_recall: 0.6429\n",
      "Epoch 48/100\n",
      "\u001b[1m146/146\u001b[0m \u001b[32m━━━━━━━━━━━━━━━━━━━━\u001b[0m\u001b[37m\u001b[0m \u001b[1m0s\u001b[0m 2ms/step - accuracy: 0.6114 - auc: 0.6767 - loss: 0.6116 - precision: 0.6367 - recall: 0.5348 - val_accuracy: 0.6154 - val_auc: 0.6332 - val_loss: 0.6159 - val_precision: 0.8113 - val_recall: 0.3233\n",
      "Epoch 49/100\n",
      "\u001b[1m146/146\u001b[0m \u001b[32m━━━━━━━━━━━━━━━━━━━━\u001b[0m\u001b[37m\u001b[0m \u001b[1m0s\u001b[0m 2ms/step - accuracy: 0.6238 - auc: 0.6739 - loss: 0.6176 - precision: 0.6754 - recall: 0.4682 - val_accuracy: 0.5846 - val_auc: 0.6493 - val_loss: 0.6184 - val_precision: 0.5735 - val_recall: 0.7331\n",
      "Epoch 50/100\n",
      "\u001b[1m146/146\u001b[0m \u001b[32m━━━━━━━━━━━━━━━━━━━━\u001b[0m\u001b[37m\u001b[0m \u001b[1m0s\u001b[0m 3ms/step - accuracy: 0.6217 - auc: 0.6852 - loss: 0.6085 - precision: 0.6582 - recall: 0.5268 - val_accuracy: 0.5558 - val_auc: 0.6433 - val_loss: 0.6172 - val_precision: 0.5585 - val_recall: 0.6278\n",
      "Epoch 51/100\n",
      "\u001b[1m146/146\u001b[0m \u001b[32m━━━━━━━━━━━━━━━━━━━━\u001b[0m\u001b[37m\u001b[0m \u001b[1m0s\u001b[0m 2ms/step - accuracy: 0.6155 - auc: 0.6741 - loss: 0.6127 - precision: 0.6397 - recall: 0.5685 - val_accuracy: 0.5769 - val_auc: 0.6476 - val_loss: 0.6100 - val_precision: 0.6075 - val_recall: 0.4887\n",
      "Epoch 52/100\n",
      "\u001b[1m146/146\u001b[0m \u001b[32m━━━━━━━━━━━━━━━━━━━━\u001b[0m\u001b[37m\u001b[0m \u001b[1m0s\u001b[0m 3ms/step - accuracy: 0.6182 - auc: 0.6792 - loss: 0.6102 - precision: 0.6478 - recall: 0.5015 - val_accuracy: 0.5981 - val_auc: 0.6450 - val_loss: 0.6125 - val_precision: 0.6404 - val_recall: 0.4887\n",
      "Epoch 53/100\n",
      "\u001b[1m146/146\u001b[0m \u001b[32m━━━━━━━━━━━━━━━━━━━━\u001b[0m\u001b[37m\u001b[0m \u001b[1m0s\u001b[0m 2ms/step - accuracy: 0.6159 - auc: 0.6729 - loss: 0.6074 - precision: 0.6528 - recall: 0.4986 - val_accuracy: 0.5712 - val_auc: 0.6396 - val_loss: 0.6124 - val_precision: 0.5817 - val_recall: 0.5752\n",
      "Epoch 54/100\n",
      "\u001b[1m146/146\u001b[0m \u001b[32m━━━━━━━━━━━━━━━━━━━━\u001b[0m\u001b[37m\u001b[0m \u001b[1m0s\u001b[0m 2ms/step - accuracy: 0.6130 - auc: 0.6759 - loss: 0.6064 - precision: 0.6504 - recall: 0.4971 - val_accuracy: 0.5827 - val_auc: 0.6482 - val_loss: 0.6113 - val_precision: 0.6089 - val_recall: 0.5150\n",
      "Epoch 55/100\n",
      "\u001b[1m146/146\u001b[0m \u001b[32m━━━━━━━━━━━━━━━━━━━━\u001b[0m\u001b[37m\u001b[0m \u001b[1m0s\u001b[0m 2ms/step - accuracy: 0.6173 - auc: 0.6825 - loss: 0.6110 - precision: 0.6489 - recall: 0.5167 - val_accuracy: 0.5558 - val_auc: 0.6485 - val_loss: 0.6122 - val_precision: 0.5542 - val_recall: 0.6729\n",
      "Epoch 56/100\n",
      "\u001b[1m146/146\u001b[0m \u001b[32m━━━━━━━━━━━━━━━━━━━━\u001b[0m\u001b[37m\u001b[0m \u001b[1m0s\u001b[0m 2ms/step - accuracy: 0.6118 - auc: 0.6747 - loss: 0.6067 - precision: 0.6209 - recall: 0.5793 - val_accuracy: 0.5692 - val_auc: 0.6391 - val_loss: 0.6112 - val_precision: 0.5929 - val_recall: 0.5038\n",
      "Epoch 57/100\n",
      "\u001b[1m146/146\u001b[0m \u001b[32m━━━━━━━━━━━━━━━━━━━━\u001b[0m\u001b[37m\u001b[0m \u001b[1m0s\u001b[0m 2ms/step - accuracy: 0.6359 - auc: 0.6989 - loss: 0.5966 - precision: 0.6665 - recall: 0.5477 - val_accuracy: 0.5942 - val_auc: 0.6381 - val_loss: 0.6105 - val_precision: 0.6647 - val_recall: 0.4173\n",
      "Epoch 58/100\n",
      "\u001b[1m146/146\u001b[0m \u001b[32m━━━━━━━━━━━━━━━━━━━━\u001b[0m\u001b[37m\u001b[0m \u001b[1m0s\u001b[0m 2ms/step - accuracy: 0.6073 - auc: 0.6717 - loss: 0.6054 - precision: 0.6506 - recall: 0.4855 - val_accuracy: 0.6019 - val_auc: 0.6497 - val_loss: 0.6731 - val_precision: 0.9538 - val_recall: 0.2331\n",
      "Epoch 59/100\n"
     ]
    },
    {
     "name": "stdout",
     "output_type": "stream",
     "text": [
      "\u001b[1m146/146\u001b[0m \u001b[32m━━━━━━━━━━━━━━━━━━━━\u001b[0m\u001b[37m\u001b[0m \u001b[1m0s\u001b[0m 3ms/step - accuracy: 0.5974 - auc: 0.6612 - loss: 0.6174 - precision: 0.6164 - recall: 0.5525 - val_accuracy: 0.5712 - val_auc: 0.6498 - val_loss: 0.6191 - val_precision: 0.5586 - val_recall: 0.7707\n",
      "Epoch 60/100\n",
      "\u001b[1m146/146\u001b[0m \u001b[32m━━━━━━━━━━━━━━━━━━━━\u001b[0m\u001b[37m\u001b[0m \u001b[1m0s\u001b[0m 2ms/step - accuracy: 0.6113 - auc: 0.6821 - loss: 0.6094 - precision: 0.6145 - recall: 0.5834 - val_accuracy: 0.5692 - val_auc: 0.6445 - val_loss: 0.6419 - val_precision: 0.5471 - val_recall: 0.9173\n",
      "Epoch 61/100\n",
      "\u001b[1m146/146\u001b[0m \u001b[32m━━━━━━━━━━━━━━━━━━━━\u001b[0m\u001b[37m\u001b[0m \u001b[1m0s\u001b[0m 3ms/step - accuracy: 0.5904 - auc: 0.6562 - loss: 0.6229 - precision: 0.5955 - recall: 0.5934 - val_accuracy: 0.6173 - val_auc: 0.6378 - val_loss: 0.6343 - val_precision: 0.9589 - val_recall: 0.2632\n"
     ]
    }
   ],
   "source": [
    "early_stopping = callbacks.EarlyStopping(\n",
    "    monitor='val_loss',\n",
    "    patience=10,\n",
    "    restore_best_weights=True\n",
    ")\n",
    "\n",
    "\n",
    "history = model.fit(\n",
    "    X_train, y_train,\n",
    "    validation_split=0.1,\n",
    "    epochs=100,\n",
    "    batch_size=32,\n",
    "    callbacks=early_stopping,\n",
    "    verbose=1\n",
    ")"
   ]
  },
  {
   "cell_type": "code",
   "execution_count": 420,
   "id": "f2ee726d",
   "metadata": {},
   "outputs": [
    {
     "name": "stdout",
     "output_type": "stream",
     "text": [
      "Acurácia: 0.6148\n",
      "Precisão: 0.6447\n",
      "Recall: 0.5008\n",
      "AUC: 0.6582\n",
      "\u001b[1m41/41\u001b[0m \u001b[32m━━━━━━━━━━━━━━━━━━━━\u001b[0m\u001b[37m\u001b[0m \u001b[1m0s\u001b[0m 3ms/step\n"
     ]
    },
    {
     "data": {
      "image/png": "[encoded data removed]",
      "text/plain": [
       "<Figure size 640x480 with 1 Axes>"
      ]
     },
     "metadata": {},
     "output_type": "display_data"
    },
    {
     "data": {
      "text/plain": [
       "array([0.49659508, 0.39801037, 0.48545343, ..., 0.41260508, 0.42117903,\n",
       "       0.37273115], dtype=float32)"
      ]
     },
     "execution_count": 420,
     "metadata": {},
     "output_type": "execute_result"
    }
   ],
   "source": [
    "results = model.evaluate(X_test, y_test, verbose=0)\n",
    "print(f\"Acurácia: {results[1]:.4f}\")\n",
    "print(f\"Precisão: {results[2]:.4f}\")\n",
    "print(f\"Recall: {results[3]:.4f}\")\n",
    "print(f\"AUC: {results[4]:.4f}\")\n",
    "\n",
    "from sklearn.metrics import roc_curve, roc_auc_score\n",
    "import matplotlib.pyplot as plt\n",
    "\n",
    "y_pred_proba = model.predict(X_test).ravel()\n",
    "fpr, tpr, thresholds = roc_curve(y_test, y_pred_proba)\n",
    "plt.plot(fpr, tpr, label='ROC Curve (AUC = %0.2f)' % roc_auc_score(y_test, y_pred_proba))\n",
    "plt.plot([0, 1], [0, 1], 'k--')\n",
    "plt.xlabel('False Positive Rate')\n",
    "plt.ylabel('True Positive Rate')\n",
    "plt.legend()\n",
    "plt.show()\n",
    "y_pred_proba"
   ]
  },
  {
   "cell_type": "markdown",
   "id": "705d677f",
   "metadata": {},
   "source": [
    "# Tentativa com outros modelos"
   ]
  },
  {
   "cell_type": "code",
   "execution_count": 421,
   "id": "9a2a39bf",
   "metadata": {},
   "outputs": [],
   "source": [
    "modelos = {\n",
    "    'Random Forest': RandomForestClassifier(n_estimators=100, random_state=42),\n",
    "    'SVM': SVC(kernel='rbf', random_state=42),\n",
    "    'RBF Neural Network': MLPClassifier(hidden_layer_sizes=(50,), activation='tanh', solver='adam', max_iter=500, random_state=42),\n",
    "    'BP Neural Network': MLPClassifier(hidden_layer_sizes=(50,), activation='relu', solver='adam', max_iter=500, random_state=42)\n",
    "}"
   ]
  },
  {
   "cell_type": "code",
   "execution_count": 422,
   "id": "e75459b8",
   "metadata": {},
   "outputs": [
    {
     "name": "stdout",
     "output_type": "stream",
     "text": [
      "\n",
      "Modelo: Random Forest\n",
      "Acurácia: 0.5917\n",
      "              precision    recall  f1-score   support\n",
      "\n",
      "         0.0       0.60      0.58      0.59       653\n",
      "         1.0       0.59      0.60      0.59       645\n",
      "\n",
      "    accuracy                           0.59      1298\n",
      "   macro avg       0.59      0.59      0.59      1298\n",
      "weighted avg       0.59      0.59      0.59      1298\n",
      "\n",
      "\n",
      "Modelo: SVM\n",
      "Acurácia: 0.5308\n",
      "              precision    recall  f1-score   support\n",
      "\n",
      "         0.0       0.57      0.29      0.38       653\n",
      "         1.0       0.52      0.78      0.62       645\n",
      "\n",
      "    accuracy                           0.53      1298\n",
      "   macro avg       0.54      0.53      0.50      1298\n",
      "weighted avg       0.54      0.53      0.50      1298\n",
      "\n",
      "\n",
      "Modelo: RBF Neural Network\n",
      "Acurácia: 0.5971\n",
      "              precision    recall  f1-score   support\n",
      "\n",
      "         0.0       0.56      0.91      0.69       653\n",
      "         1.0       0.75      0.28      0.41       645\n",
      "\n",
      "    accuracy                           0.60      1298\n",
      "   macro avg       0.66      0.60      0.55      1298\n",
      "weighted avg       0.66      0.60      0.55      1298\n",
      "\n",
      "\n",
      "Modelo: BP Neural Network\n",
      "Acurácia: 0.5863\n",
      "              precision    recall  f1-score   support\n",
      "\n",
      "         0.0       0.58      0.63      0.61       653\n",
      "         1.0       0.59      0.54      0.56       645\n",
      "\n",
      "    accuracy                           0.59      1298\n",
      "   macro avg       0.59      0.59      0.59      1298\n",
      "weighted avg       0.59      0.59      0.59      1298\n",
      "\n"
     ]
    }
   ],
   "source": [
    "desempenho = {}\n",
    "for nome, modelo in modelos.items():\n",
    "    modelo.fit(X_train, y_train)\n",
    "    y_pred = modelo.predict(X_test)\n",
    "    acc = accuracy_score(y_test, y_pred)\n",
    "    desempenho[nome] = acc\n",
    "    print(f'\\nModelo: {nome}')\n",
    "    print(f'Acurácia: {acc:.4f}')\n",
    "    print(classification_report(y_test, y_pred))"
   ]
  },
  {
   "cell_type": "code",
   "execution_count": 423,
   "id": "333b419b",
   "metadata": {},
   "outputs": [
    {
     "name": "stdout",
     "output_type": "stream",
     "text": [
      "[LightGBM] [Info] Number of positive: 2600, number of negative: 2592\n",
      "[LightGBM] [Info] Auto-choosing row-wise multi-threading, the overhead of testing was 0.000822 seconds.\n",
      "You can set `force_row_wise=true` to remove the overhead.\n",
      "And if memory is not enough, you can set `force_col_wise=true`.\n",
      "[LightGBM] [Info] Total Bins 117\n",
      "[LightGBM] [Info] Number of data points in the train set: 5192, number of used features: 27\n",
      "[LightGBM] [Info] [binary:BoostFromScore]: pavg=0.500770 -> initscore=0.003082\n",
      "[LightGBM] [Info] Start training from score 0.003082\n"
     ]
    }
   ],
   "source": [
    "train_data = lgb.Dataset(X_train, label=y_train)\n",
    "\n",
    "params = {\n",
    "    'objective': 'binary',\n",
    "    'metric': 'binary_logloss',\n",
    "    'boosting_type': 'gbdt',\n",
    "    'num_leaves': 31,\n",
    "    'learning_rate': 0.05,\n",
    "    'feature_fraction': 0.9\n",
    "}\n",
    "\n",
    "model = lgb.train(params, train_data, num_boost_round=100)"
   ]
  },
  {
   "cell_type": "code",
   "execution_count": 424,
   "id": "96adee89",
   "metadata": {},
   "outputs": [
    {
     "name": "stdout",
     "output_type": "stream",
     "text": [
      "Acurácia: 0.610939907550077\n"
     ]
    }
   ],
   "source": [
    "y_pred = model.predict(X_test)\n",
    "y_pred = [1 if p > 0.5 else 0 for p in y_pred]  \n",
    "from sklearn.metrics import accuracy_score\n",
    "print(\"Acurácia:\", accuracy_score(y_test, y_pred))"
   ]
  }
 ],
 "metadata": {
  "kernelspec": {
   "display_name": "Python 3 (ipykernel)",
   "language": "python",
   "name": "python3"
  },
  "language_info": {
   "codemirror_mode": {
    "name": "ipython",
    "version": 3
   },
   "file_extension": ".py",
   "mimetype": "text/x-python",
   "name": "python",
   "nbconvert_exporter": "python",
   "pygments_lexer": "ipython3",
   "version": "3.11.7"
  }
 },
 "nbformat": 4,
 "nbformat_minor": 5
}
